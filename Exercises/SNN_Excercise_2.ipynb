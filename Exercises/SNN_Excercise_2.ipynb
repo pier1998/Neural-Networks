{
  "nbformat": 4,
  "nbformat_minor": 0,
  "metadata": {
    "kernelspec": {
      "display_name": "Python 3",
      "language": "python",
      "name": "python3"
    },
    "language_info": {
      "codemirror_mode": {
        "name": "ipython",
        "version": 2
      },
      "file_extension": ".py",
      "mimetype": "text/x-python",
      "name": "python",
      "nbconvert_exporter": "python",
      "pygments_lexer": "ipython2",
      "version": "2.7.15"
    },
    "colab": {
      "provenance": [],
      "collapsed_sections": []
    },
    "widgets": {
      "application/vnd.jupyter.widget-state+json": {
        "596bb1b6e3db4854a4438e3e7e691017": {
          "model_module": "@jupyter-widgets/controls",
          "model_name": "HBoxModel",
          "model_module_version": "1.5.0",
          "state": {
            "_dom_classes": [],
            "_model_module": "@jupyter-widgets/controls",
            "_model_module_version": "1.5.0",
            "_model_name": "HBoxModel",
            "_view_count": null,
            "_view_module": "@jupyter-widgets/controls",
            "_view_module_version": "1.5.0",
            "_view_name": "HBoxView",
            "box_style": "",
            "children": [
              "IPY_MODEL_51aee474041a4d20a7fa4f57d713bdd3",
              "IPY_MODEL_6e78171d11df444cbab42effbed5f638",
              "IPY_MODEL_0bdfc5f96ae9477380a1a87472070690"
            ],
            "layout": "IPY_MODEL_41d2e8f8908448d6970ac39a4866f319"
          }
        },
        "51aee474041a4d20a7fa4f57d713bdd3": {
          "model_module": "@jupyter-widgets/controls",
          "model_name": "HTMLModel",
          "model_module_version": "1.5.0",
          "state": {
            "_dom_classes": [],
            "_model_module": "@jupyter-widgets/controls",
            "_model_module_version": "1.5.0",
            "_model_name": "HTMLModel",
            "_view_count": null,
            "_view_module": "@jupyter-widgets/controls",
            "_view_module_version": "1.5.0",
            "_view_name": "HTMLView",
            "description": "",
            "description_tooltip": null,
            "layout": "IPY_MODEL_c29748fd91b64882b640a64ac87271bc",
            "placeholder": "​",
            "style": "IPY_MODEL_45daa8b18c714bcfb464f2a82d0cc185",
            "value": ""
          }
        },
        "6e78171d11df444cbab42effbed5f638": {
          "model_module": "@jupyter-widgets/controls",
          "model_name": "FloatProgressModel",
          "model_module_version": "1.5.0",
          "state": {
            "_dom_classes": [],
            "_model_module": "@jupyter-widgets/controls",
            "_model_module_version": "1.5.0",
            "_model_name": "FloatProgressModel",
            "_view_count": null,
            "_view_module": "@jupyter-widgets/controls",
            "_view_module_version": "1.5.0",
            "_view_name": "ProgressView",
            "bar_style": "success",
            "description": "",
            "description_tooltip": null,
            "layout": "IPY_MODEL_184c030278a142d7833dae5c5dfbf536",
            "max": 9912422,
            "min": 0,
            "orientation": "horizontal",
            "style": "IPY_MODEL_5a32b43f54be4df29ab7ccf03262b7be",
            "value": 9912422
          }
        },
        "0bdfc5f96ae9477380a1a87472070690": {
          "model_module": "@jupyter-widgets/controls",
          "model_name": "HTMLModel",
          "model_module_version": "1.5.0",
          "state": {
            "_dom_classes": [],
            "_model_module": "@jupyter-widgets/controls",
            "_model_module_version": "1.5.0",
            "_model_name": "HTMLModel",
            "_view_count": null,
            "_view_module": "@jupyter-widgets/controls",
            "_view_module_version": "1.5.0",
            "_view_name": "HTMLView",
            "description": "",
            "description_tooltip": null,
            "layout": "IPY_MODEL_1ac55a16fb8a4c0bbfa7fe04a6aefc96",
            "placeholder": "​",
            "style": "IPY_MODEL_e36e54f260e3483894568c0702a6da69",
            "value": " 9913344/? [00:00&lt;00:00, 33268205.38it/s]"
          }
        },
        "41d2e8f8908448d6970ac39a4866f319": {
          "model_module": "@jupyter-widgets/base",
          "model_name": "LayoutModel",
          "model_module_version": "1.2.0",
          "state": {
            "_model_module": "@jupyter-widgets/base",
            "_model_module_version": "1.2.0",
            "_model_name": "LayoutModel",
            "_view_count": null,
            "_view_module": "@jupyter-widgets/base",
            "_view_module_version": "1.2.0",
            "_view_name": "LayoutView",
            "align_content": null,
            "align_items": null,
            "align_self": null,
            "border": null,
            "bottom": null,
            "display": null,
            "flex": null,
            "flex_flow": null,
            "grid_area": null,
            "grid_auto_columns": null,
            "grid_auto_flow": null,
            "grid_auto_rows": null,
            "grid_column": null,
            "grid_gap": null,
            "grid_row": null,
            "grid_template_areas": null,
            "grid_template_columns": null,
            "grid_template_rows": null,
            "height": null,
            "justify_content": null,
            "justify_items": null,
            "left": null,
            "margin": null,
            "max_height": null,
            "max_width": null,
            "min_height": null,
            "min_width": null,
            "object_fit": null,
            "object_position": null,
            "order": null,
            "overflow": null,
            "overflow_x": null,
            "overflow_y": null,
            "padding": null,
            "right": null,
            "top": null,
            "visibility": null,
            "width": null
          }
        },
        "c29748fd91b64882b640a64ac87271bc": {
          "model_module": "@jupyter-widgets/base",
          "model_name": "LayoutModel",
          "model_module_version": "1.2.0",
          "state": {
            "_model_module": "@jupyter-widgets/base",
            "_model_module_version": "1.2.0",
            "_model_name": "LayoutModel",
            "_view_count": null,
            "_view_module": "@jupyter-widgets/base",
            "_view_module_version": "1.2.0",
            "_view_name": "LayoutView",
            "align_content": null,
            "align_items": null,
            "align_self": null,
            "border": null,
            "bottom": null,
            "display": null,
            "flex": null,
            "flex_flow": null,
            "grid_area": null,
            "grid_auto_columns": null,
            "grid_auto_flow": null,
            "grid_auto_rows": null,
            "grid_column": null,
            "grid_gap": null,
            "grid_row": null,
            "grid_template_areas": null,
            "grid_template_columns": null,
            "grid_template_rows": null,
            "height": null,
            "justify_content": null,
            "justify_items": null,
            "left": null,
            "margin": null,
            "max_height": null,
            "max_width": null,
            "min_height": null,
            "min_width": null,
            "object_fit": null,
            "object_position": null,
            "order": null,
            "overflow": null,
            "overflow_x": null,
            "overflow_y": null,
            "padding": null,
            "right": null,
            "top": null,
            "visibility": null,
            "width": null
          }
        },
        "45daa8b18c714bcfb464f2a82d0cc185": {
          "model_module": "@jupyter-widgets/controls",
          "model_name": "DescriptionStyleModel",
          "model_module_version": "1.5.0",
          "state": {
            "_model_module": "@jupyter-widgets/controls",
            "_model_module_version": "1.5.0",
            "_model_name": "DescriptionStyleModel",
            "_view_count": null,
            "_view_module": "@jupyter-widgets/base",
            "_view_module_version": "1.2.0",
            "_view_name": "StyleView",
            "description_width": ""
          }
        },
        "184c030278a142d7833dae5c5dfbf536": {
          "model_module": "@jupyter-widgets/base",
          "model_name": "LayoutModel",
          "model_module_version": "1.2.0",
          "state": {
            "_model_module": "@jupyter-widgets/base",
            "_model_module_version": "1.2.0",
            "_model_name": "LayoutModel",
            "_view_count": null,
            "_view_module": "@jupyter-widgets/base",
            "_view_module_version": "1.2.0",
            "_view_name": "LayoutView",
            "align_content": null,
            "align_items": null,
            "align_self": null,
            "border": null,
            "bottom": null,
            "display": null,
            "flex": null,
            "flex_flow": null,
            "grid_area": null,
            "grid_auto_columns": null,
            "grid_auto_flow": null,
            "grid_auto_rows": null,
            "grid_column": null,
            "grid_gap": null,
            "grid_row": null,
            "grid_template_areas": null,
            "grid_template_columns": null,
            "grid_template_rows": null,
            "height": null,
            "justify_content": null,
            "justify_items": null,
            "left": null,
            "margin": null,
            "max_height": null,
            "max_width": null,
            "min_height": null,
            "min_width": null,
            "object_fit": null,
            "object_position": null,
            "order": null,
            "overflow": null,
            "overflow_x": null,
            "overflow_y": null,
            "padding": null,
            "right": null,
            "top": null,
            "visibility": null,
            "width": null
          }
        },
        "5a32b43f54be4df29ab7ccf03262b7be": {
          "model_module": "@jupyter-widgets/controls",
          "model_name": "ProgressStyleModel",
          "model_module_version": "1.5.0",
          "state": {
            "_model_module": "@jupyter-widgets/controls",
            "_model_module_version": "1.5.0",
            "_model_name": "ProgressStyleModel",
            "_view_count": null,
            "_view_module": "@jupyter-widgets/base",
            "_view_module_version": "1.2.0",
            "_view_name": "StyleView",
            "bar_color": null,
            "description_width": ""
          }
        },
        "1ac55a16fb8a4c0bbfa7fe04a6aefc96": {
          "model_module": "@jupyter-widgets/base",
          "model_name": "LayoutModel",
          "model_module_version": "1.2.0",
          "state": {
            "_model_module": "@jupyter-widgets/base",
            "_model_module_version": "1.2.0",
            "_model_name": "LayoutModel",
            "_view_count": null,
            "_view_module": "@jupyter-widgets/base",
            "_view_module_version": "1.2.0",
            "_view_name": "LayoutView",
            "align_content": null,
            "align_items": null,
            "align_self": null,
            "border": null,
            "bottom": null,
            "display": null,
            "flex": null,
            "flex_flow": null,
            "grid_area": null,
            "grid_auto_columns": null,
            "grid_auto_flow": null,
            "grid_auto_rows": null,
            "grid_column": null,
            "grid_gap": null,
            "grid_row": null,
            "grid_template_areas": null,
            "grid_template_columns": null,
            "grid_template_rows": null,
            "height": null,
            "justify_content": null,
            "justify_items": null,
            "left": null,
            "margin": null,
            "max_height": null,
            "max_width": null,
            "min_height": null,
            "min_width": null,
            "object_fit": null,
            "object_position": null,
            "order": null,
            "overflow": null,
            "overflow_x": null,
            "overflow_y": null,
            "padding": null,
            "right": null,
            "top": null,
            "visibility": null,
            "width": null
          }
        },
        "e36e54f260e3483894568c0702a6da69": {
          "model_module": "@jupyter-widgets/controls",
          "model_name": "DescriptionStyleModel",
          "model_module_version": "1.5.0",
          "state": {
            "_model_module": "@jupyter-widgets/controls",
            "_model_module_version": "1.5.0",
            "_model_name": "DescriptionStyleModel",
            "_view_count": null,
            "_view_module": "@jupyter-widgets/base",
            "_view_module_version": "1.2.0",
            "_view_name": "StyleView",
            "description_width": ""
          }
        },
        "df765f3d475b46a1b034888b0e9af41f": {
          "model_module": "@jupyter-widgets/controls",
          "model_name": "HBoxModel",
          "model_module_version": "1.5.0",
          "state": {
            "_dom_classes": [],
            "_model_module": "@jupyter-widgets/controls",
            "_model_module_version": "1.5.0",
            "_model_name": "HBoxModel",
            "_view_count": null,
            "_view_module": "@jupyter-widgets/controls",
            "_view_module_version": "1.5.0",
            "_view_name": "HBoxView",
            "box_style": "",
            "children": [
              "IPY_MODEL_f79a011741a94321a3b3e4a323679af6",
              "IPY_MODEL_86a17caec1784a099bb11d23b48c7634",
              "IPY_MODEL_502d011b4ac64ab68fc0ebec59237419"
            ],
            "layout": "IPY_MODEL_3a8fca4a0d5949f481c920d0651eec2b"
          }
        },
        "f79a011741a94321a3b3e4a323679af6": {
          "model_module": "@jupyter-widgets/controls",
          "model_name": "HTMLModel",
          "model_module_version": "1.5.0",
          "state": {
            "_dom_classes": [],
            "_model_module": "@jupyter-widgets/controls",
            "_model_module_version": "1.5.0",
            "_model_name": "HTMLModel",
            "_view_count": null,
            "_view_module": "@jupyter-widgets/controls",
            "_view_module_version": "1.5.0",
            "_view_name": "HTMLView",
            "description": "",
            "description_tooltip": null,
            "layout": "IPY_MODEL_f1b0df7521cf4d2387e8a116a60b6ea5",
            "placeholder": "​",
            "style": "IPY_MODEL_2302c9cc62044a9eb76229000a471ecd",
            "value": ""
          }
        },
        "86a17caec1784a099bb11d23b48c7634": {
          "model_module": "@jupyter-widgets/controls",
          "model_name": "FloatProgressModel",
          "model_module_version": "1.5.0",
          "state": {
            "_dom_classes": [],
            "_model_module": "@jupyter-widgets/controls",
            "_model_module_version": "1.5.0",
            "_model_name": "FloatProgressModel",
            "_view_count": null,
            "_view_module": "@jupyter-widgets/controls",
            "_view_module_version": "1.5.0",
            "_view_name": "ProgressView",
            "bar_style": "success",
            "description": "",
            "description_tooltip": null,
            "layout": "IPY_MODEL_9923747b426d46a6bfab261759123b65",
            "max": 28881,
            "min": 0,
            "orientation": "horizontal",
            "style": "IPY_MODEL_bd77ee2e213a4295b6e9190b729c14fe",
            "value": 28881
          }
        },
        "502d011b4ac64ab68fc0ebec59237419": {
          "model_module": "@jupyter-widgets/controls",
          "model_name": "HTMLModel",
          "model_module_version": "1.5.0",
          "state": {
            "_dom_classes": [],
            "_model_module": "@jupyter-widgets/controls",
            "_model_module_version": "1.5.0",
            "_model_name": "HTMLModel",
            "_view_count": null,
            "_view_module": "@jupyter-widgets/controls",
            "_view_module_version": "1.5.0",
            "_view_name": "HTMLView",
            "description": "",
            "description_tooltip": null,
            "layout": "IPY_MODEL_6df3adb62c5743f2824211d40d941f6d",
            "placeholder": "​",
            "style": "IPY_MODEL_c3da0f13d01448ddab0695d4f99436b1",
            "value": " 29696/? [00:00&lt;00:00, 601051.27it/s]"
          }
        },
        "3a8fca4a0d5949f481c920d0651eec2b": {
          "model_module": "@jupyter-widgets/base",
          "model_name": "LayoutModel",
          "model_module_version": "1.2.0",
          "state": {
            "_model_module": "@jupyter-widgets/base",
            "_model_module_version": "1.2.0",
            "_model_name": "LayoutModel",
            "_view_count": null,
            "_view_module": "@jupyter-widgets/base",
            "_view_module_version": "1.2.0",
            "_view_name": "LayoutView",
            "align_content": null,
            "align_items": null,
            "align_self": null,
            "border": null,
            "bottom": null,
            "display": null,
            "flex": null,
            "flex_flow": null,
            "grid_area": null,
            "grid_auto_columns": null,
            "grid_auto_flow": null,
            "grid_auto_rows": null,
            "grid_column": null,
            "grid_gap": null,
            "grid_row": null,
            "grid_template_areas": null,
            "grid_template_columns": null,
            "grid_template_rows": null,
            "height": null,
            "justify_content": null,
            "justify_items": null,
            "left": null,
            "margin": null,
            "max_height": null,
            "max_width": null,
            "min_height": null,
            "min_width": null,
            "object_fit": null,
            "object_position": null,
            "order": null,
            "overflow": null,
            "overflow_x": null,
            "overflow_y": null,
            "padding": null,
            "right": null,
            "top": null,
            "visibility": null,
            "width": null
          }
        },
        "f1b0df7521cf4d2387e8a116a60b6ea5": {
          "model_module": "@jupyter-widgets/base",
          "model_name": "LayoutModel",
          "model_module_version": "1.2.0",
          "state": {
            "_model_module": "@jupyter-widgets/base",
            "_model_module_version": "1.2.0",
            "_model_name": "LayoutModel",
            "_view_count": null,
            "_view_module": "@jupyter-widgets/base",
            "_view_module_version": "1.2.0",
            "_view_name": "LayoutView",
            "align_content": null,
            "align_items": null,
            "align_self": null,
            "border": null,
            "bottom": null,
            "display": null,
            "flex": null,
            "flex_flow": null,
            "grid_area": null,
            "grid_auto_columns": null,
            "grid_auto_flow": null,
            "grid_auto_rows": null,
            "grid_column": null,
            "grid_gap": null,
            "grid_row": null,
            "grid_template_areas": null,
            "grid_template_columns": null,
            "grid_template_rows": null,
            "height": null,
            "justify_content": null,
            "justify_items": null,
            "left": null,
            "margin": null,
            "max_height": null,
            "max_width": null,
            "min_height": null,
            "min_width": null,
            "object_fit": null,
            "object_position": null,
            "order": null,
            "overflow": null,
            "overflow_x": null,
            "overflow_y": null,
            "padding": null,
            "right": null,
            "top": null,
            "visibility": null,
            "width": null
          }
        },
        "2302c9cc62044a9eb76229000a471ecd": {
          "model_module": "@jupyter-widgets/controls",
          "model_name": "DescriptionStyleModel",
          "model_module_version": "1.5.0",
          "state": {
            "_model_module": "@jupyter-widgets/controls",
            "_model_module_version": "1.5.0",
            "_model_name": "DescriptionStyleModel",
            "_view_count": null,
            "_view_module": "@jupyter-widgets/base",
            "_view_module_version": "1.2.0",
            "_view_name": "StyleView",
            "description_width": ""
          }
        },
        "9923747b426d46a6bfab261759123b65": {
          "model_module": "@jupyter-widgets/base",
          "model_name": "LayoutModel",
          "model_module_version": "1.2.0",
          "state": {
            "_model_module": "@jupyter-widgets/base",
            "_model_module_version": "1.2.0",
            "_model_name": "LayoutModel",
            "_view_count": null,
            "_view_module": "@jupyter-widgets/base",
            "_view_module_version": "1.2.0",
            "_view_name": "LayoutView",
            "align_content": null,
            "align_items": null,
            "align_self": null,
            "border": null,
            "bottom": null,
            "display": null,
            "flex": null,
            "flex_flow": null,
            "grid_area": null,
            "grid_auto_columns": null,
            "grid_auto_flow": null,
            "grid_auto_rows": null,
            "grid_column": null,
            "grid_gap": null,
            "grid_row": null,
            "grid_template_areas": null,
            "grid_template_columns": null,
            "grid_template_rows": null,
            "height": null,
            "justify_content": null,
            "justify_items": null,
            "left": null,
            "margin": null,
            "max_height": null,
            "max_width": null,
            "min_height": null,
            "min_width": null,
            "object_fit": null,
            "object_position": null,
            "order": null,
            "overflow": null,
            "overflow_x": null,
            "overflow_y": null,
            "padding": null,
            "right": null,
            "top": null,
            "visibility": null,
            "width": null
          }
        },
        "bd77ee2e213a4295b6e9190b729c14fe": {
          "model_module": "@jupyter-widgets/controls",
          "model_name": "ProgressStyleModel",
          "model_module_version": "1.5.0",
          "state": {
            "_model_module": "@jupyter-widgets/controls",
            "_model_module_version": "1.5.0",
            "_model_name": "ProgressStyleModel",
            "_view_count": null,
            "_view_module": "@jupyter-widgets/base",
            "_view_module_version": "1.2.0",
            "_view_name": "StyleView",
            "bar_color": null,
            "description_width": ""
          }
        },
        "6df3adb62c5743f2824211d40d941f6d": {
          "model_module": "@jupyter-widgets/base",
          "model_name": "LayoutModel",
          "model_module_version": "1.2.0",
          "state": {
            "_model_module": "@jupyter-widgets/base",
            "_model_module_version": "1.2.0",
            "_model_name": "LayoutModel",
            "_view_count": null,
            "_view_module": "@jupyter-widgets/base",
            "_view_module_version": "1.2.0",
            "_view_name": "LayoutView",
            "align_content": null,
            "align_items": null,
            "align_self": null,
            "border": null,
            "bottom": null,
            "display": null,
            "flex": null,
            "flex_flow": null,
            "grid_area": null,
            "grid_auto_columns": null,
            "grid_auto_flow": null,
            "grid_auto_rows": null,
            "grid_column": null,
            "grid_gap": null,
            "grid_row": null,
            "grid_template_areas": null,
            "grid_template_columns": null,
            "grid_template_rows": null,
            "height": null,
            "justify_content": null,
            "justify_items": null,
            "left": null,
            "margin": null,
            "max_height": null,
            "max_width": null,
            "min_height": null,
            "min_width": null,
            "object_fit": null,
            "object_position": null,
            "order": null,
            "overflow": null,
            "overflow_x": null,
            "overflow_y": null,
            "padding": null,
            "right": null,
            "top": null,
            "visibility": null,
            "width": null
          }
        },
        "c3da0f13d01448ddab0695d4f99436b1": {
          "model_module": "@jupyter-widgets/controls",
          "model_name": "DescriptionStyleModel",
          "model_module_version": "1.5.0",
          "state": {
            "_model_module": "@jupyter-widgets/controls",
            "_model_module_version": "1.5.0",
            "_model_name": "DescriptionStyleModel",
            "_view_count": null,
            "_view_module": "@jupyter-widgets/base",
            "_view_module_version": "1.2.0",
            "_view_name": "StyleView",
            "description_width": ""
          }
        },
        "d5d96b3c8117433894547244a4729cfd": {
          "model_module": "@jupyter-widgets/controls",
          "model_name": "HBoxModel",
          "model_module_version": "1.5.0",
          "state": {
            "_dom_classes": [],
            "_model_module": "@jupyter-widgets/controls",
            "_model_module_version": "1.5.0",
            "_model_name": "HBoxModel",
            "_view_count": null,
            "_view_module": "@jupyter-widgets/controls",
            "_view_module_version": "1.5.0",
            "_view_name": "HBoxView",
            "box_style": "",
            "children": [
              "IPY_MODEL_ec5f412e34be4d3cb85b0849aa366b79",
              "IPY_MODEL_d763cf172c2f485d86b35fda7a29a291",
              "IPY_MODEL_312610070ce843e2a45fa0901f103f5b"
            ],
            "layout": "IPY_MODEL_ec94e41e7c844786a0fa3595afdbcf08"
          }
        },
        "ec5f412e34be4d3cb85b0849aa366b79": {
          "model_module": "@jupyter-widgets/controls",
          "model_name": "HTMLModel",
          "model_module_version": "1.5.0",
          "state": {
            "_dom_classes": [],
            "_model_module": "@jupyter-widgets/controls",
            "_model_module_version": "1.5.0",
            "_model_name": "HTMLModel",
            "_view_count": null,
            "_view_module": "@jupyter-widgets/controls",
            "_view_module_version": "1.5.0",
            "_view_name": "HTMLView",
            "description": "",
            "description_tooltip": null,
            "layout": "IPY_MODEL_c4b39187ac0642eb8f7c32d9a05b04d1",
            "placeholder": "​",
            "style": "IPY_MODEL_ce0220dde82c44c2bbd3d72d944e91d7",
            "value": ""
          }
        },
        "d763cf172c2f485d86b35fda7a29a291": {
          "model_module": "@jupyter-widgets/controls",
          "model_name": "FloatProgressModel",
          "model_module_version": "1.5.0",
          "state": {
            "_dom_classes": [],
            "_model_module": "@jupyter-widgets/controls",
            "_model_module_version": "1.5.0",
            "_model_name": "FloatProgressModel",
            "_view_count": null,
            "_view_module": "@jupyter-widgets/controls",
            "_view_module_version": "1.5.0",
            "_view_name": "ProgressView",
            "bar_style": "success",
            "description": "",
            "description_tooltip": null,
            "layout": "IPY_MODEL_7601bc5f4941452b8cd911598837696e",
            "max": 1648877,
            "min": 0,
            "orientation": "horizontal",
            "style": "IPY_MODEL_38d4579491b140d5b44c64c01997a723",
            "value": 1648877
          }
        },
        "312610070ce843e2a45fa0901f103f5b": {
          "model_module": "@jupyter-widgets/controls",
          "model_name": "HTMLModel",
          "model_module_version": "1.5.0",
          "state": {
            "_dom_classes": [],
            "_model_module": "@jupyter-widgets/controls",
            "_model_module_version": "1.5.0",
            "_model_name": "HTMLModel",
            "_view_count": null,
            "_view_module": "@jupyter-widgets/controls",
            "_view_module_version": "1.5.0",
            "_view_name": "HTMLView",
            "description": "",
            "description_tooltip": null,
            "layout": "IPY_MODEL_a029b59e605c43ba8a24ca2248e6b327",
            "placeholder": "​",
            "style": "IPY_MODEL_d074bd68843b43f584611bd0269a410c",
            "value": " 1649664/? [00:00&lt;00:00, 19214747.97it/s]"
          }
        },
        "ec94e41e7c844786a0fa3595afdbcf08": {
          "model_module": "@jupyter-widgets/base",
          "model_name": "LayoutModel",
          "model_module_version": "1.2.0",
          "state": {
            "_model_module": "@jupyter-widgets/base",
            "_model_module_version": "1.2.0",
            "_model_name": "LayoutModel",
            "_view_count": null,
            "_view_module": "@jupyter-widgets/base",
            "_view_module_version": "1.2.0",
            "_view_name": "LayoutView",
            "align_content": null,
            "align_items": null,
            "align_self": null,
            "border": null,
            "bottom": null,
            "display": null,
            "flex": null,
            "flex_flow": null,
            "grid_area": null,
            "grid_auto_columns": null,
            "grid_auto_flow": null,
            "grid_auto_rows": null,
            "grid_column": null,
            "grid_gap": null,
            "grid_row": null,
            "grid_template_areas": null,
            "grid_template_columns": null,
            "grid_template_rows": null,
            "height": null,
            "justify_content": null,
            "justify_items": null,
            "left": null,
            "margin": null,
            "max_height": null,
            "max_width": null,
            "min_height": null,
            "min_width": null,
            "object_fit": null,
            "object_position": null,
            "order": null,
            "overflow": null,
            "overflow_x": null,
            "overflow_y": null,
            "padding": null,
            "right": null,
            "top": null,
            "visibility": null,
            "width": null
          }
        },
        "c4b39187ac0642eb8f7c32d9a05b04d1": {
          "model_module": "@jupyter-widgets/base",
          "model_name": "LayoutModel",
          "model_module_version": "1.2.0",
          "state": {
            "_model_module": "@jupyter-widgets/base",
            "_model_module_version": "1.2.0",
            "_model_name": "LayoutModel",
            "_view_count": null,
            "_view_module": "@jupyter-widgets/base",
            "_view_module_version": "1.2.0",
            "_view_name": "LayoutView",
            "align_content": null,
            "align_items": null,
            "align_self": null,
            "border": null,
            "bottom": null,
            "display": null,
            "flex": null,
            "flex_flow": null,
            "grid_area": null,
            "grid_auto_columns": null,
            "grid_auto_flow": null,
            "grid_auto_rows": null,
            "grid_column": null,
            "grid_gap": null,
            "grid_row": null,
            "grid_template_areas": null,
            "grid_template_columns": null,
            "grid_template_rows": null,
            "height": null,
            "justify_content": null,
            "justify_items": null,
            "left": null,
            "margin": null,
            "max_height": null,
            "max_width": null,
            "min_height": null,
            "min_width": null,
            "object_fit": null,
            "object_position": null,
            "order": null,
            "overflow": null,
            "overflow_x": null,
            "overflow_y": null,
            "padding": null,
            "right": null,
            "top": null,
            "visibility": null,
            "width": null
          }
        },
        "ce0220dde82c44c2bbd3d72d944e91d7": {
          "model_module": "@jupyter-widgets/controls",
          "model_name": "DescriptionStyleModel",
          "model_module_version": "1.5.0",
          "state": {
            "_model_module": "@jupyter-widgets/controls",
            "_model_module_version": "1.5.0",
            "_model_name": "DescriptionStyleModel",
            "_view_count": null,
            "_view_module": "@jupyter-widgets/base",
            "_view_module_version": "1.2.0",
            "_view_name": "StyleView",
            "description_width": ""
          }
        },
        "7601bc5f4941452b8cd911598837696e": {
          "model_module": "@jupyter-widgets/base",
          "model_name": "LayoutModel",
          "model_module_version": "1.2.0",
          "state": {
            "_model_module": "@jupyter-widgets/base",
            "_model_module_version": "1.2.0",
            "_model_name": "LayoutModel",
            "_view_count": null,
            "_view_module": "@jupyter-widgets/base",
            "_view_module_version": "1.2.0",
            "_view_name": "LayoutView",
            "align_content": null,
            "align_items": null,
            "align_self": null,
            "border": null,
            "bottom": null,
            "display": null,
            "flex": null,
            "flex_flow": null,
            "grid_area": null,
            "grid_auto_columns": null,
            "grid_auto_flow": null,
            "grid_auto_rows": null,
            "grid_column": null,
            "grid_gap": null,
            "grid_row": null,
            "grid_template_areas": null,
            "grid_template_columns": null,
            "grid_template_rows": null,
            "height": null,
            "justify_content": null,
            "justify_items": null,
            "left": null,
            "margin": null,
            "max_height": null,
            "max_width": null,
            "min_height": null,
            "min_width": null,
            "object_fit": null,
            "object_position": null,
            "order": null,
            "overflow": null,
            "overflow_x": null,
            "overflow_y": null,
            "padding": null,
            "right": null,
            "top": null,
            "visibility": null,
            "width": null
          }
        },
        "38d4579491b140d5b44c64c01997a723": {
          "model_module": "@jupyter-widgets/controls",
          "model_name": "ProgressStyleModel",
          "model_module_version": "1.5.0",
          "state": {
            "_model_module": "@jupyter-widgets/controls",
            "_model_module_version": "1.5.0",
            "_model_name": "ProgressStyleModel",
            "_view_count": null,
            "_view_module": "@jupyter-widgets/base",
            "_view_module_version": "1.2.0",
            "_view_name": "StyleView",
            "bar_color": null,
            "description_width": ""
          }
        },
        "a029b59e605c43ba8a24ca2248e6b327": {
          "model_module": "@jupyter-widgets/base",
          "model_name": "LayoutModel",
          "model_module_version": "1.2.0",
          "state": {
            "_model_module": "@jupyter-widgets/base",
            "_model_module_version": "1.2.0",
            "_model_name": "LayoutModel",
            "_view_count": null,
            "_view_module": "@jupyter-widgets/base",
            "_view_module_version": "1.2.0",
            "_view_name": "LayoutView",
            "align_content": null,
            "align_items": null,
            "align_self": null,
            "border": null,
            "bottom": null,
            "display": null,
            "flex": null,
            "flex_flow": null,
            "grid_area": null,
            "grid_auto_columns": null,
            "grid_auto_flow": null,
            "grid_auto_rows": null,
            "grid_column": null,
            "grid_gap": null,
            "grid_row": null,
            "grid_template_areas": null,
            "grid_template_columns": null,
            "grid_template_rows": null,
            "height": null,
            "justify_content": null,
            "justify_items": null,
            "left": null,
            "margin": null,
            "max_height": null,
            "max_width": null,
            "min_height": null,
            "min_width": null,
            "object_fit": null,
            "object_position": null,
            "order": null,
            "overflow": null,
            "overflow_x": null,
            "overflow_y": null,
            "padding": null,
            "right": null,
            "top": null,
            "visibility": null,
            "width": null
          }
        },
        "d074bd68843b43f584611bd0269a410c": {
          "model_module": "@jupyter-widgets/controls",
          "model_name": "DescriptionStyleModel",
          "model_module_version": "1.5.0",
          "state": {
            "_model_module": "@jupyter-widgets/controls",
            "_model_module_version": "1.5.0",
            "_model_name": "DescriptionStyleModel",
            "_view_count": null,
            "_view_module": "@jupyter-widgets/base",
            "_view_module_version": "1.2.0",
            "_view_name": "StyleView",
            "description_width": ""
          }
        },
        "aabaa2a9d7634bfab544f1e8091d01b3": {
          "model_module": "@jupyter-widgets/controls",
          "model_name": "HBoxModel",
          "model_module_version": "1.5.0",
          "state": {
            "_dom_classes": [],
            "_model_module": "@jupyter-widgets/controls",
            "_model_module_version": "1.5.0",
            "_model_name": "HBoxModel",
            "_view_count": null,
            "_view_module": "@jupyter-widgets/controls",
            "_view_module_version": "1.5.0",
            "_view_name": "HBoxView",
            "box_style": "",
            "children": [
              "IPY_MODEL_3c32241afdde4b768339d73317803092",
              "IPY_MODEL_acfae3fdced84a5e89e4b371ab339034",
              "IPY_MODEL_9436d510ff5047408dca963b7d613b10"
            ],
            "layout": "IPY_MODEL_19637235d08240b188868b3140591d0f"
          }
        },
        "3c32241afdde4b768339d73317803092": {
          "model_module": "@jupyter-widgets/controls",
          "model_name": "HTMLModel",
          "model_module_version": "1.5.0",
          "state": {
            "_dom_classes": [],
            "_model_module": "@jupyter-widgets/controls",
            "_model_module_version": "1.5.0",
            "_model_name": "HTMLModel",
            "_view_count": null,
            "_view_module": "@jupyter-widgets/controls",
            "_view_module_version": "1.5.0",
            "_view_name": "HTMLView",
            "description": "",
            "description_tooltip": null,
            "layout": "IPY_MODEL_d43a2d4677f54c84b09dbe8feadcb461",
            "placeholder": "​",
            "style": "IPY_MODEL_22832f0c757945f0bcd28306ce237748",
            "value": ""
          }
        },
        "acfae3fdced84a5e89e4b371ab339034": {
          "model_module": "@jupyter-widgets/controls",
          "model_name": "FloatProgressModel",
          "model_module_version": "1.5.0",
          "state": {
            "_dom_classes": [],
            "_model_module": "@jupyter-widgets/controls",
            "_model_module_version": "1.5.0",
            "_model_name": "FloatProgressModel",
            "_view_count": null,
            "_view_module": "@jupyter-widgets/controls",
            "_view_module_version": "1.5.0",
            "_view_name": "ProgressView",
            "bar_style": "success",
            "description": "",
            "description_tooltip": null,
            "layout": "IPY_MODEL_31c27fd6dc634dca81a40df2ce0c1d8e",
            "max": 4542,
            "min": 0,
            "orientation": "horizontal",
            "style": "IPY_MODEL_fc87eac1f0ed403f8ab3769966c9a40c",
            "value": 4542
          }
        },
        "9436d510ff5047408dca963b7d613b10": {
          "model_module": "@jupyter-widgets/controls",
          "model_name": "HTMLModel",
          "model_module_version": "1.5.0",
          "state": {
            "_dom_classes": [],
            "_model_module": "@jupyter-widgets/controls",
            "_model_module_version": "1.5.0",
            "_model_name": "HTMLModel",
            "_view_count": null,
            "_view_module": "@jupyter-widgets/controls",
            "_view_module_version": "1.5.0",
            "_view_name": "HTMLView",
            "description": "",
            "description_tooltip": null,
            "layout": "IPY_MODEL_8caa2a2383d6405ab7cca959389afc4e",
            "placeholder": "​",
            "style": "IPY_MODEL_95586d71a7274acd9b5f49d2303066a4",
            "value": " 5120/? [00:00&lt;00:00, 142500.57it/s]"
          }
        },
        "19637235d08240b188868b3140591d0f": {
          "model_module": "@jupyter-widgets/base",
          "model_name": "LayoutModel",
          "model_module_version": "1.2.0",
          "state": {
            "_model_module": "@jupyter-widgets/base",
            "_model_module_version": "1.2.0",
            "_model_name": "LayoutModel",
            "_view_count": null,
            "_view_module": "@jupyter-widgets/base",
            "_view_module_version": "1.2.0",
            "_view_name": "LayoutView",
            "align_content": null,
            "align_items": null,
            "align_self": null,
            "border": null,
            "bottom": null,
            "display": null,
            "flex": null,
            "flex_flow": null,
            "grid_area": null,
            "grid_auto_columns": null,
            "grid_auto_flow": null,
            "grid_auto_rows": null,
            "grid_column": null,
            "grid_gap": null,
            "grid_row": null,
            "grid_template_areas": null,
            "grid_template_columns": null,
            "grid_template_rows": null,
            "height": null,
            "justify_content": null,
            "justify_items": null,
            "left": null,
            "margin": null,
            "max_height": null,
            "max_width": null,
            "min_height": null,
            "min_width": null,
            "object_fit": null,
            "object_position": null,
            "order": null,
            "overflow": null,
            "overflow_x": null,
            "overflow_y": null,
            "padding": null,
            "right": null,
            "top": null,
            "visibility": null,
            "width": null
          }
        },
        "d43a2d4677f54c84b09dbe8feadcb461": {
          "model_module": "@jupyter-widgets/base",
          "model_name": "LayoutModel",
          "model_module_version": "1.2.0",
          "state": {
            "_model_module": "@jupyter-widgets/base",
            "_model_module_version": "1.2.0",
            "_model_name": "LayoutModel",
            "_view_count": null,
            "_view_module": "@jupyter-widgets/base",
            "_view_module_version": "1.2.0",
            "_view_name": "LayoutView",
            "align_content": null,
            "align_items": null,
            "align_self": null,
            "border": null,
            "bottom": null,
            "display": null,
            "flex": null,
            "flex_flow": null,
            "grid_area": null,
            "grid_auto_columns": null,
            "grid_auto_flow": null,
            "grid_auto_rows": null,
            "grid_column": null,
            "grid_gap": null,
            "grid_row": null,
            "grid_template_areas": null,
            "grid_template_columns": null,
            "grid_template_rows": null,
            "height": null,
            "justify_content": null,
            "justify_items": null,
            "left": null,
            "margin": null,
            "max_height": null,
            "max_width": null,
            "min_height": null,
            "min_width": null,
            "object_fit": null,
            "object_position": null,
            "order": null,
            "overflow": null,
            "overflow_x": null,
            "overflow_y": null,
            "padding": null,
            "right": null,
            "top": null,
            "visibility": null,
            "width": null
          }
        },
        "22832f0c757945f0bcd28306ce237748": {
          "model_module": "@jupyter-widgets/controls",
          "model_name": "DescriptionStyleModel",
          "model_module_version": "1.5.0",
          "state": {
            "_model_module": "@jupyter-widgets/controls",
            "_model_module_version": "1.5.0",
            "_model_name": "DescriptionStyleModel",
            "_view_count": null,
            "_view_module": "@jupyter-widgets/base",
            "_view_module_version": "1.2.0",
            "_view_name": "StyleView",
            "description_width": ""
          }
        },
        "31c27fd6dc634dca81a40df2ce0c1d8e": {
          "model_module": "@jupyter-widgets/base",
          "model_name": "LayoutModel",
          "model_module_version": "1.2.0",
          "state": {
            "_model_module": "@jupyter-widgets/base",
            "_model_module_version": "1.2.0",
            "_model_name": "LayoutModel",
            "_view_count": null,
            "_view_module": "@jupyter-widgets/base",
            "_view_module_version": "1.2.0",
            "_view_name": "LayoutView",
            "align_content": null,
            "align_items": null,
            "align_self": null,
            "border": null,
            "bottom": null,
            "display": null,
            "flex": null,
            "flex_flow": null,
            "grid_area": null,
            "grid_auto_columns": null,
            "grid_auto_flow": null,
            "grid_auto_rows": null,
            "grid_column": null,
            "grid_gap": null,
            "grid_row": null,
            "grid_template_areas": null,
            "grid_template_columns": null,
            "grid_template_rows": null,
            "height": null,
            "justify_content": null,
            "justify_items": null,
            "left": null,
            "margin": null,
            "max_height": null,
            "max_width": null,
            "min_height": null,
            "min_width": null,
            "object_fit": null,
            "object_position": null,
            "order": null,
            "overflow": null,
            "overflow_x": null,
            "overflow_y": null,
            "padding": null,
            "right": null,
            "top": null,
            "visibility": null,
            "width": null
          }
        },
        "fc87eac1f0ed403f8ab3769966c9a40c": {
          "model_module": "@jupyter-widgets/controls",
          "model_name": "ProgressStyleModel",
          "model_module_version": "1.5.0",
          "state": {
            "_model_module": "@jupyter-widgets/controls",
            "_model_module_version": "1.5.0",
            "_model_name": "ProgressStyleModel",
            "_view_count": null,
            "_view_module": "@jupyter-widgets/base",
            "_view_module_version": "1.2.0",
            "_view_name": "StyleView",
            "bar_color": null,
            "description_width": ""
          }
        },
        "8caa2a2383d6405ab7cca959389afc4e": {
          "model_module": "@jupyter-widgets/base",
          "model_name": "LayoutModel",
          "model_module_version": "1.2.0",
          "state": {
            "_model_module": "@jupyter-widgets/base",
            "_model_module_version": "1.2.0",
            "_model_name": "LayoutModel",
            "_view_count": null,
            "_view_module": "@jupyter-widgets/base",
            "_view_module_version": "1.2.0",
            "_view_name": "LayoutView",
            "align_content": null,
            "align_items": null,
            "align_self": null,
            "border": null,
            "bottom": null,
            "display": null,
            "flex": null,
            "flex_flow": null,
            "grid_area": null,
            "grid_auto_columns": null,
            "grid_auto_flow": null,
            "grid_auto_rows": null,
            "grid_column": null,
            "grid_gap": null,
            "grid_row": null,
            "grid_template_areas": null,
            "grid_template_columns": null,
            "grid_template_rows": null,
            "height": null,
            "justify_content": null,
            "justify_items": null,
            "left": null,
            "margin": null,
            "max_height": null,
            "max_width": null,
            "min_height": null,
            "min_width": null,
            "object_fit": null,
            "object_position": null,
            "order": null,
            "overflow": null,
            "overflow_x": null,
            "overflow_y": null,
            "padding": null,
            "right": null,
            "top": null,
            "visibility": null,
            "width": null
          }
        },
        "95586d71a7274acd9b5f49d2303066a4": {
          "model_module": "@jupyter-widgets/controls",
          "model_name": "DescriptionStyleModel",
          "model_module_version": "1.5.0",
          "state": {
            "_model_module": "@jupyter-widgets/controls",
            "_model_module_version": "1.5.0",
            "_model_name": "DescriptionStyleModel",
            "_view_count": null,
            "_view_module": "@jupyter-widgets/base",
            "_view_module_version": "1.2.0",
            "_view_name": "StyleView",
            "description_width": ""
          }
        }
      }
    }
  },
  "cells": [
    {
      "cell_type": "markdown",
      "metadata": {
        "id": "q4S1chIkSCU8"
      },
      "source": [
        "# 1 Synaptic plasticity  and learning in SNN – D7046E @ LTU.SE\n",
        "\n",
        "Both artificial neural networks (ANNs) and spiking neural networks (SNNs) can be optimized with gradient based learning using the back-propagation algorithm, which you are familiar with from the first ANN exercise. SLAYER is one example of how backpropagation can be applied to SNNs ([video](https://www.youtube.com/watch?v=JGdatqqci5o), [paper](https://proceedings.neurips.cc/paper/2018/file/82f2b308c3b01637c607ce05f52a2fed-Paper.pdf), [code](https://github.com/bamsumit/slayerPytorch)).\n",
        "\n",
        "However, this is not how brains function. The flexible adaptation and learning capabilities of brains emerge from plasticity mechanisms at the synapse and neuron level that are essentialy *local*. This means that the adaptation of neurons and synapses mainly depend on the relative timing and statistics of pre- and postsynaptic spikes. This concept is called *spike timing dependent plasticity* (STDP).\n",
        "\n",
        "In this exercise you will perform simulation experiments with the STDP learning rule for excitatory synapses introduced in the lectures. The particular STDP model that you will investigate is desceribed in [Neuronal Dynamics, 19.2.2 Pair-based Models of STDP](https://neuronaldynamics.epfl.ch/online/Ch19.S2.html). Observe that this model does not apply to inhibitory synapses, which have constant weights in this exercise. You will also use the leaky integrate-and-fire (LIF) model of spiking neurons that you are familiar with from the first SNN exercise.\n",
        "\n",
        "![STDP model](https://neuronaldynamics.epfl.ch/online/x596.png)\n",
        "\n",
        "The basic idea of the pair-based STDP model is illustrated in the figure above. A synapse on a neuron receives a presynaptic spike at time $t^f_i$ and the neuron fires a postsynaptic spike at $t^f_j$. When this happens, the weight of the synapse changes by a relative amount $\\Delta w_{ij}/w_{ij}$ that depends on the relative timing of spikes, $t^f_j-t^f_i$, as illustrated by the experimental results in the figure. The rationale of this is quite:\n",
        "\n",
        "- If the presynaptic spike happens just before the postsynaptic spike there is a cause and effect (causality). The synapse contributes to firing of a spike. In this case the synapse weight is increased (strengthened).\n",
        "- If the presynaptic spike happens just after the postsynaptic spike the latter was fired due to inputs on other synapses and there is *no causal effect*. In this case the synapse weight is decreased (weakened), but not below zero since it remains an excitatory synapse.\n",
        "\n",
        "In general, correlation-based learning of this type is called [Hebbian Learning](https://neuronaldynamics.epfl.ch/online/Ch19.S1.html).\n",
        "\n",
        "The local nature of STDP is key for high energy efficiency. The long-range propagation of derivatives in backpropagation is costly. These aspects have important [carbon emission and environmental consequences](https://www.forbes.com/sites/robtoews/2020/06/17/deep-learnings-climate-change-problem). Neuromorphic computing based on SNNs and STDP [offer an interesting alternative](https://tube.switch.ch/videos/db393d1d)."
      ]
    },
    {
      "cell_type": "markdown",
      "metadata": {
        "id": "vUVLmZJ4SCVB"
      },
      "source": [
        "# 2 Basic SNN Simulator\n",
        "\n",
        "The following basic SNN simulator is familiar from the first SNN exercise. This code has been extended with a neuron type implementing pair-based STDP synapses, as described in [Neuronal Dynamics, 19.2.2 Pair-based Models of STDP](https://neuronaldynamics.epfl.ch/online/Ch19.S2.html).\n",
        "\n",
        "## 2.1 Libraries and generic functions"
      ]
    },
    {
      "cell_type": "code",
      "metadata": {
        "id": "HIqGqT6gSCVC"
      },
      "source": [
        "%matplotlib inline\n",
        "\n",
        "import numpy as np\n",
        "import matplotlib.pyplot as plt\n",
        "from matplotlib.ticker import MaxNLocator\n",
        "from torch.utils.data import DataLoader\n",
        "from torchvision import datasets, transforms\n",
        "\n",
        "from IPython.display import clear_output\n",
        "#from IPython.core.debugger import set_trace # Activates debugging features\n",
        "\n",
        "def rasterplot(ax, x, y, x_label, y_label):\n",
        "# Function used to plot spike times\n",
        "    ax.set_xlabel(x_label)\n",
        "    ax.set_ylabel(y_label)\n",
        "    ax.scatter(x, y, marker='|')\n",
        "    ax.yaxis.set_major_locator(MaxNLocator(integer=True))"
      ],
      "execution_count": null,
      "outputs": []
    },
    {
      "cell_type": "markdown",
      "metadata": {
        "id": "RbU7d9QNSCVD"
      },
      "source": [
        "## 2.2 Neuron constructors"
      ]
    },
    {
      "cell_type": "code",
      "metadata": {
        "id": "omtATltVSCVE"
      },
      "source": [
        "def lif_neuron(I_inject, E_L=-65e-3, u_reset=-65e-3, u_thres=-50e-3, R=90e6, tau_m=30e-3):\n",
        "    # LIF neuron with a constant injection current\n",
        "    return {\n",
        "        'type'    : 'lif',\n",
        "        'u'       : u_reset,                   # Membrane potential [Volt]\n",
        "        'E_L'     : E_L,                       # Leakage resting potential [Volt]\n",
        "        'u_reset' : u_reset,                   # Reset potential after spike [Volt]\n",
        "        'u_thres' : u_thres,                   # Threshold for spike generation [Volt]\n",
        "        'R'       : R,                         # Membrane resistance [Ohm]\n",
        "        'tau_m'   : tau_m,                     # Membrane time constant [second]\n",
        "        'I_inj'   : I_inject,                  # Injection current [Ampere]\n",
        "    }\n",
        "\n",
        "def lif_syn_neuron(num_synapses, E_L=-65e-3, u_reset=-65e-3, u_thres=-50e-3, R=90e6, tau_m=30e-3, I_inject=0, tau_syn=50e-3):\n",
        "    # LIF neuron with dynamic synapses\n",
        "    n = lif_neuron(I_inject, E_L, u_reset, u_thres, R, tau_m)\n",
        "    n['tau_syn'] = tau_syn                     # Synapse time constant [second] (can also be an array)\n",
        "    n['I_syn']   = np.zeros(num_synapses)      # Postsynaptic currents [Ampere]\n",
        "    n['w_syn']   = np.zeros(num_synapses)      # Synaptic weights [Ampere]\n",
        "    n['type']    = 'lif_syn'\n",
        "    return n\n",
        "\n",
        "def lif_stdp_neuron(num_synapses, E_L=-65e-3, u_reset=-65e-3, u_thres=-50e-3, R=90e6, tau_m=30e-3, I_inject=0,\n",
        "                    tau_syn=50e-3, tau_pls=20e-3, tau_mns=20e-3, w_max=1e-9, w_min=1e-12, gamma=1):\n",
        "    # LIF neuron with dynamic synapses and pair-based STDP\n",
        "    n = lif_syn_neuron(num_synapses, E_L, u_reset, u_thres, R, tau_m, I_inject, tau_syn)\n",
        "    n['x_pre']   = np.zeros(num_synapses)      # STDP trace of presynaptic spikes\n",
        "    n['y_pst']   = 0                           # STDP trace of postsynaptic spikes (scalar, one neuron)\n",
        "    n['tau_pls'] = tau_pls                     # STDP trace time constant [second] (can also be an array)\n",
        "    n['tau_mns'] = tau_mns                     # STDP trace time constant [second] (can also be an array)\n",
        "    n['w_max']   = w_max                       # Largest allowed value of synapse conductance\n",
        "    n['w_min']   = w_min                       # Lowest allowed value of synapse conductance\n",
        "    n['gamma']   = gamma                       # Learning rate parameter with soft bounds (w_min,w_max)\n",
        "    n['type']    = 'lif_stdp'\n",
        "    return n\n",
        "\n",
        "def poisson_neuron(spike_frequency):\n",
        "    # Random spike generator with Poisson distributed spike time intervals, see Section 7.2.1 in the book\n",
        "    return {\n",
        "        'type'      : 'poisson',\n",
        "        'frequency' : spike_frequency          # Average spiking frequency\n",
        "    }\n",
        "\n",
        "def spike_generator(spike_times):\n",
        "    # Generates spikes at time points defined by the sorted list 'spike_t'\n",
        "    return {\n",
        "        'type'      : 'generator',\n",
        "        'spike_t'   : spike_times              # Array of spike times, separated by at least dt\n",
        "    }"
      ],
      "execution_count": null,
      "outputs": []
    },
    {
      "cell_type": "markdown",
      "metadata": {
        "id": "LZNoVAlJSCVE"
      },
      "source": [
        "## 2.3 Network update functions"
      ]
    },
    {
      "cell_type": "code",
      "metadata": {
        "id": "mvbNnBcxSCVF"
      },
      "source": [
        "def integrate(dt, t, neurons):\n",
        "    # Integrate the membrane potential, postsynaptic currents etc one timestep dt\n",
        "    for n in neurons:\n",
        "        if n['type'] == 'lif':\n",
        "            # Integrate membrane potential\n",
        "            dudt = (n['E_L'] - n['u'] + n['R']*n['I_inj']) / n['tau_m']\n",
        "            n['u'] += dt*dudt\n",
        "        elif n['type'] in ['lif_syn','lif_stdp']:\n",
        "            # Integrate array of postsynaptic currents, one current for each synapse\n",
        "            didt = np.divide(-n['I_syn'], n['tau_syn'])\n",
        "            n['I_syn'] += dt*didt\n",
        "            # Integrate membrane potential\n",
        "            dudt = (n['E_L'] - n['u'] + n['R']*(n['I_inj']+sum(n['I_syn']))) / n['tau_m']\n",
        "            n['u'] += dt*dudt\n",
        "            # Integrate local traces for pair-based plasticity\n",
        "            if n['type'] == 'lif_stdp':\n",
        "                n['x_pre'] -= dt*np.divide(n['x_pre'], n['tau_pls'])       # Eq 19.12\n",
        "                n['y_pst'] -= dt*np.divide(n['y_pst'], n['tau_mns'])       # Eq 19.13\n",
        "            \n",
        "def spikegen(dt, t, neurons):\n",
        "    # Implements the non-linear spike generation mechanism\n",
        "    spikes = []\n",
        "    for i,n in enumerate(neurons):\n",
        "        if n['type'] in ['lif','lif_syn','lif_stdp']:\n",
        "            if n['u'] > n['u_thres']:\n",
        "                n['u'] = n['u_reset']\n",
        "                spikes.append(i)\n",
        "        elif n['type'] == 'poisson':\n",
        "            if np.random.rand() < dt*n['frequency']:\n",
        "                spikes.append(i)\n",
        "        elif n['type'] == 'generator':\n",
        "            j = np.searchsorted(n['spike_t'], t, side='right')\n",
        "            if j>0 and t-n['spike_t'][j-1]<dt:\n",
        "                spikes.append(i)\n",
        "                \n",
        "    return spikes\n",
        "\n",
        "def update(dt, t, neurons, connections):\n",
        "    # Update the state of a spiking neural network.\n",
        "    # Refer to Exercise 3 for a reminder about how to set up connections between neurons.\n",
        "    integrate(dt, t, neurons)\n",
        "    spikes = spikegen(dt, t, neurons)\n",
        "\n",
        "    # Update weights and STDP trace for each postsynaptic spike\n",
        "    for spike in spikes:\n",
        "        n = neurons[spike]\n",
        "        if n['type'] in ['lif_stdp']:\n",
        "            n['y_pst'] += 1                                         # Eq 19.13\n",
        "            for i,w in enumerate(n['w_syn']):\n",
        "                if w > 0:                                           # Excitatory synapses\n",
        "                    Aplus = n['gamma']*(n['w_max'] - n['w_syn'][i]) # Eq 19.4\n",
        "                    n['w_syn'][i] += dt*Aplus*n['x_pre'][i]         # Eq 19.14\n",
        "    \n",
        "    # Update synapse currents, weights and STDP traces for each presynaptic spike\n",
        "    for (post, syn, pre) in connections:\n",
        "        for spike in spikes:\n",
        "            if spike == pre:\n",
        "                n = neurons[post]\n",
        "                \n",
        "                if n['type'] not in ['lif_syn', 'lif_stdp']:\n",
        "                    print('Error: Spike sent to neuron type without synapses')\n",
        "                \n",
        "                # Update synapse currents\n",
        "                if n['type'] in ['lif_syn','lif_stdp']:\n",
        "                    n['I_syn'][syn] += n['w_syn'][syn]\n",
        "                    \n",
        "                # Update STDP trace and weight\n",
        "                if n['type'] in ['lif_stdp']:\n",
        "                    n['x_pre'][syn] += 1                                   # Eq 19.12\n",
        "                    if n['w_syn'][syn] > 0:                                # Excitatory synapses\n",
        "                        Aminus = n['gamma']*(n['w_min'] - n['w_syn'][syn]) # Eq 19.4\n",
        "                        n['w_syn'][syn] += dt*Aminus*n['y_pst']            # Eq 19.14\n",
        "    \n",
        "    return spikes"
      ],
      "execution_count": null,
      "outputs": []
    },
    {
      "cell_type": "markdown",
      "metadata": {
        "id": "G6ULwhuTSCVG"
      },
      "source": [
        "# 3 Tasks\n",
        "\n",
        "## 3.1 Synaptic plasticity experiment\n",
        "\n",
        "**Task 1:** Connect a poisson neuron with 20 Hz spike frequency to one STDP synapse on a LIF neuron. Set the soft bounds on the weight to (w_min=0, w_max=300e-12) and the learning rate to a high value (eg gamma=10) to speed up the weight changes. Set the initial weight of the STDP synapse to 200e-12 and simulate the resulting two-neuron network. Prepare a plot like Figure 19.6 in [Section 19.2](https://neuronaldynamics.epfl.ch/online/Ch19.S2.html) and study the relation between the weight updates and the pre- and postsynaptic spike times. Why does the weight decrease at certain times, and increase at other times?\n",
        "\n",
        "**Answer:** The weight increases when the pre-synapses spike before the post and decreases when vice versa\n",
        "\n",
        "### 3.1.1 Define neurons and connections"
      ]
    },
    {
      "cell_type": "code",
      "metadata": {
        "id": "UhwhxXaySCVG"
      },
      "source": [
        "# 20 Hz poisson neuron\n",
        "n0 = poisson_neuron(20)\n",
        "\n",
        "# LIF neuron with one STDP synapse\n",
        "n_stdp = lif_stdp_neuron( 1, w_min=0, w_max=300e-12, gamma=10 )\n",
        "n_stdp['w_syn'][0] = 200e-12\n",
        "\n",
        "# Neuron population\n",
        "neurons = [n0, n_stdp]\n",
        "\n",
        "# Connect n0 to n_stdp\n",
        "connections = [[1, 0, 0]]  # [post,syn,pre], see former SNN exercise\n",
        "\n",
        "# Init time coordinate and stepsize\n",
        "t = 0\n",
        "dt = 1e-4"
      ],
      "execution_count": null,
      "outputs": []
    },
    {
      "cell_type": "markdown",
      "metadata": {
        "id": "nXUfMT7PSCVH"
      },
      "source": [
        "### 3.1.2 Simulate the network and plot results\n",
        "\n",
        "The code below can be executed multiple times to advance the simulation one second"
      ]
    },
    {
      "cell_type": "code",
      "metadata": {
        "id": "9_ZddZRvSCVH",
        "colab": {
          "base_uri": "https://localhost:8080/",
          "height": 931
        },
        "outputId": "8814f760-fd86-4446-ab08-65e3bdcdefe6"
      },
      "source": [
        "t0 = t\n",
        "tv = []\n",
        "x = []\n",
        "y = []\n",
        "w = []\n",
        "t_spike = []\n",
        "n_spike = []\n",
        "\n",
        "while t < t0+1:\n",
        "\n",
        "    spikes = update(dt, t, neurons, connections)\n",
        "    \n",
        "    # Store membrane potentials needed for plotting/analysis\n",
        "    tv.append(t)\n",
        "    x.append(list(n_stdp['x_pre']))\n",
        "    y.append(n_stdp['y_pst'])\n",
        "    w.append(list(n_stdp['w_syn']/1e-12))\n",
        "    \n",
        "    # Store spikes needed for plotting/analysis\n",
        "    if len(spikes)>0:\n",
        "        for s in spikes:\n",
        "            t_spike.append(t)\n",
        "            n_spike.append(s)\n",
        "\n",
        "    # Timestep completed\n",
        "    t += dt\n",
        "\n",
        "plt.rcParams['figure.figsize'] = [15, 15]\n",
        "fig,(ax1,ax2,ax3,ax4) = plt.subplots(4,1, sharex=True)\n",
        "ax1.plot(tv,x); ax1.set_ylabel('x_pre'); ax1.legend(['syn 0'])\n",
        "ax2.plot(tv,y); ax2.set_ylabel('y_pst')\n",
        "ax3.plot(tv,w); ax3.set_ylabel('w'); ax3.legend(['syn 0'])\n",
        "rasterplot(ax4, t_spike, n_spike,'Time [s]','Neuron index')\n",
        "#fig.savefig('stdp_example.pdf',format='pdf')\n",
        "\n",
        "print(n_spike.count(0))\n",
        "print(n_spike.count(1))\n",
        "print(n_spike.count(0)/n_spike.count(1))"
      ],
      "execution_count": null,
      "outputs": [
        {
          "output_type": "stream",
          "name": "stdout",
          "text": [
            "17\n",
            "14\n",
            "1.2142857142857142\n"
          ]
        },
        {
          "output_type": "display_data",
          "data": {
            "text/plain": [
              "<Figure size 1080x1080 with 4 Axes>"
            ],
            "image/png": "[encoded data removed]"
          },
          "metadata": {
            "needs_background": "light"
          }
        }
      ]
    },
    {
      "cell_type": "markdown",
      "metadata": {
        "id": "4T5KrqXNSCVI"
      },
      "source": [
        "**Task 2:** What happens if you set the initial weight of the STDP synapse to 150e-12 and simulate the resulting network? Why is the behaviour different compared to the result obtained in Task 1? (Hint: Estimate the number of postsynaptic spikes per second of simulation time and compare that with the presynaptic spikerate)\n",
        "\n",
        "**Answer:** After making the intial weight of the STDP synapse smaller, the amount of spikes get smaller. The behaviour changes since it is easier to reach the threshold when the inital weight is higher due to the multiplying during the process. The pre-synaptic decreases much faster then the post-synaptic."
      ]
    },
    {
      "cell_type": "code",
      "metadata": {
        "id": "HYYEnHuISCVI",
        "colab": {
          "base_uri": "https://localhost:8080/",
          "height": 929
        },
        "outputId": "d2b8204c-45c3-480d-e52b-f44c908ee0e3"
      },
      "source": [
        "# Code for Task 2\n",
        "# 20 Hz poisson neuron\n",
        "n0 = poisson_neuron(20)\n",
        "\n",
        "# LIF neuron with one STDP synapse\n",
        "n_stdp = lif_stdp_neuron( 1, w_min=0, w_max=300e-12, gamma=10 )\n",
        "n_stdp['w_syn'][0] = 150e-12\n",
        "\n",
        "# Neuron population\n",
        "neurons = [n0, n_stdp]\n",
        "\n",
        "# Connect n0 to n_stdp\n",
        "connections = [[1, 0, 0]]  # [post,syn,pre], see former SNN exercise\n",
        "\n",
        "# Init time coordinate and stepsize\n",
        "t = 0\n",
        "dt = 1e-4\n",
        "\n",
        "t0 = t\n",
        "tv = []\n",
        "x = []\n",
        "y = []\n",
        "w = []\n",
        "t_spike = []\n",
        "n_spike = []\n",
        "\n",
        "while t < t0+1:\n",
        "\n",
        "    spikes = update(dt, t, neurons, connections)\n",
        "    \n",
        "    # Store membrane potentials needed for plotting/analysis\n",
        "    tv.append(t)\n",
        "    x.append(list(n_stdp['x_pre']))\n",
        "    y.append(n_stdp['y_pst'])\n",
        "    w.append(list(n_stdp['w_syn']/1e-12))\n",
        "    \n",
        "    # Store spikes needed for plotting/analysis\n",
        "    if len(spikes)>0:\n",
        "        for s in spikes:\n",
        "            t_spike.append(t)\n",
        "            n_spike.append(s)\n",
        "\n",
        "    # Timestep completed\n",
        "    t += dt\n",
        "\n",
        "plt.rcParams['figure.figsize'] = [15, 15]\n",
        "fig,(ax1,ax2,ax3,ax4) = plt.subplots(4,1, sharex=True)\n",
        "ax1.plot(tv,x); ax1.set_ylabel('x_pre'); ax1.legend(['syn 0'])\n",
        "ax2.plot(tv,y); ax2.set_ylabel('y_pst')\n",
        "ax3.plot(tv,w); ax3.set_ylabel('w'); ax3.legend(['syn 0'])\n",
        "rasterplot(ax4, t_spike, n_spike,'Time [s]','Neuron index')\n",
        "#fig.savefig('stdp_example.pdf',format='pdf')\n",
        "\n",
        "print(n_spike.count(0))\n",
        "print(n_spike.count(1))\n",
        "print(n_spike.count(0)/n_spike.count(1))\n"
      ],
      "execution_count": null,
      "outputs": [
        {
          "output_type": "stream",
          "name": "stdout",
          "text": [
            "18\n",
            "6\n",
            "3.0\n"
          ]
        },
        {
          "output_type": "display_data",
          "data": {
            "text/plain": [
              "<Figure size 1080x1080 with 4 Axes>"
            ],
            "image/png": "[encoded data removed]"
          },
          "metadata": {
            "needs_background": "light"
          }
        }
      ]
    },
    {
      "cell_type": "markdown",
      "metadata": {
        "id": "2LADnQMrSCVI"
      },
      "source": [
        "**Task 3:** What happens if you set the initial weight of the STDP synapse to 300e-12 and simulate the resulting network? Why is the behaviour different compared to the result obtained in Task 1 and Task 2?\n",
        "\n",
        "**Answer:** When we set the initial value to the same value of the max_weight, which means the weight can only go down. The number of post-synaptic spikes is now higher than the amount of pre-synaptic spikes. There is a concentration of post-synaptic spikes in the beginning."
      ]
    },
    {
      "cell_type": "code",
      "metadata": {
        "id": "8Qqge5mbSCVJ",
        "colab": {
          "base_uri": "https://localhost:8080/",
          "height": 929
        },
        "outputId": "d0a846bb-3c9e-4ecf-9e2a-fe302d6e4a97"
      },
      "source": [
        "\n",
        "# Code for Task 3\n",
        "# 20 Hz poisson neuron\n",
        "n0 = poisson_neuron(20)\n",
        "\n",
        "# LIF neuron with one STDP synapse\n",
        "n_stdp = lif_stdp_neuron( 1, w_min=0, w_max=300e-12, gamma=10 )\n",
        "n_stdp['w_syn'][0] = 300e-12\n",
        "\n",
        "# Neuron population\n",
        "neurons = [n0, n_stdp]\n",
        "\n",
        "# Connect n0 to n_stdp\n",
        "connections = [[1, 0, 0]]  # [post,syn,pre], see former SNN exercise\n",
        "\n",
        "# Init time coordinate and stepsize\n",
        "t = 0\n",
        "dt = 1e-4\n",
        "\n",
        "t0 = t\n",
        "tv = []\n",
        "x = []\n",
        "y = []\n",
        "w = []\n",
        "t_spike = []\n",
        "n_spike = []\n",
        "\n",
        "while t < t0+1:\n",
        "\n",
        "    spikes = update(dt, t, neurons, connections)\n",
        "    \n",
        "    # Store membrane potentials needed for plotting/analysis\n",
        "    tv.append(t)\n",
        "    x.append(list(n_stdp['x_pre']))\n",
        "    y.append(n_stdp['y_pst'])\n",
        "    w.append(list(n_stdp['w_syn']/1e-12))\n",
        "    \n",
        "    # Store spikes needed for plotting/analysis\n",
        "    if len(spikes)>0:\n",
        "        for s in spikes:\n",
        "            t_spike.append(t)\n",
        "            n_spike.append(s)\n",
        "\n",
        "    # Timestep completed\n",
        "    t += dt\n",
        "\n",
        "plt.rcParams['figure.figsize'] = [15, 15]\n",
        "fig,(ax1,ax2,ax3,ax4) = plt.subplots(4,1, sharex=True)\n",
        "ax1.plot(tv,x); ax1.set_ylabel('x_pre'); ax1.legend(['syn 0'])\n",
        "ax2.plot(tv,y); ax2.set_ylabel('y_pst')\n",
        "ax3.plot(tv,w); ax3.set_ylabel('w'); ax3.legend(['syn 0'])\n",
        "rasterplot(ax4, t_spike, n_spike,'Time [s]','Neuron index')\n",
        "#fig.savefig('stdp_example.pdf',format='pdf')\n",
        "\n",
        "print(n_spike.count(0))\n",
        "print(n_spike.count(1))\n",
        "print(n_spike.count(0)/n_spike.count(1))"
      ],
      "execution_count": null,
      "outputs": [
        {
          "output_type": "stream",
          "name": "stdout",
          "text": [
            "20\n",
            "38\n",
            "0.5263157894736842\n"
          ]
        },
        {
          "output_type": "display_data",
          "data": {
            "text/plain": [
              "<Figure size 1080x1080 with 4 Axes>"
            ],
            "image/png": "[encoded data removed]"
          },
          "metadata": {
            "needs_background": "light"
          }
        }
      ]
    },
    {
      "cell_type": "markdown",
      "metadata": {
        "id": "mkG29sjBSCVJ"
      },
      "source": [
        "**Task 4:** Describe the results in Tasks 1-3 in terms of Hebbian Learning.\n",
        "\n",
        "*Hint: The weight influences the spikerate of the postsynaptic neuron. Consider the effect of different spikerates of the postsynaptic neuron on the relative timing of pre- and postsynaptic spikes (on the average).*\n",
        "\n",
        "**Answer:** Hebbian learning neurons form a relation which eachother when they learn something new. In Task 2 when X and Y spike on the same moment we see that the neuron index increases in the second part of the graph. This indicates there is a strong relationship between the neurons.\n",
        "\n",
        "\n",
        "**Task 5:** Describe the relation between this implementation of STDP and the concept illustrated in [Figure 19.4F](https://neuronaldynamics.epfl.ch/online/Ch19.S1.html) in Neuronal Dynamics. You have to study the pair-based STDP equations and related figures/text in the book to understand the relation.\n",
        "\n",
        "**Answer:** This implementation is based on equations which give a stronger corrolation if post-synaptic spike is closer (in time) to the spike. If the spike is before the spike, this means the two are not correlated and weight should be lowered."
      ]
    },
    {
      "cell_type": "markdown",
      "metadata": {
        "id": "COw87zHbSCVJ"
      },
      "source": [
        "## 3.2 Learning of MNIST digits and classification\n",
        "\n",
        "SNNs with STDP can adapt to firing patterns in the stimulus. The tasks above illustrates that at the single synapse and neuron level.\n",
        "\n",
        "With multiple cells, and competition between the excitatory cells via mutual/lateral inhibition, the different excitatory cells adapt to different stimuli. Such networks can perform clustering of stimuli via activation of different cell assemblies, and forms a basis for [decision making networks](https://neuronaldynamics.epfl.ch/online/Ch16.html).\n",
        "\n",
        "A network of this kind can for example be used to classify inputs, or to learn [visual receptive fields](https://doi.org/10.1523/JNEUROSCI.4188-12.2013). In this task you will implement some parts of the MNIST classification network presented in the paper [unsupervised learning of digit recognition using spike-timing-dependent plasticity](https://doi.org/10.3389/fncom.2015.00099) and study the STDP of synapses on two excitatory cells when digits from the MNIST dataset are presented to the network.\n",
        "\n",
        "![Network](https://www.frontiersin.org/files/Articles/149773/fncom-09-00099-r4/image_m/fncom-09-00099-g001.jpg)"
      ]
    },
    {
      "cell_type": "markdown",
      "metadata": {
        "id": "fzPFyyWkSCVK"
      },
      "source": [
        "### 3.2.1 Load MNIST samples\n",
        "\n",
        "You will only consider two digits and two excitatory cells to reduce the simulation time and complexity of the task (see the [paper](https://doi.org/10.3389/fncom.2015.00099) for complete results)."
      ]
    },
    {
      "cell_type": "code",
      "metadata": {
        "id": "ajD3quOgSCVK",
        "colab": {
          "base_uri": "https://localhost:8080/",
          "height": 668,
          "referenced_widgets": [
            "596bb1b6e3db4854a4438e3e7e691017",
            "51aee474041a4d20a7fa4f57d713bdd3",
            "6e78171d11df444cbab42effbed5f638",
            "0bdfc5f96ae9477380a1a87472070690",
            "41d2e8f8908448d6970ac39a4866f319",
            "c29748fd91b64882b640a64ac87271bc",
            "45daa8b18c714bcfb464f2a82d0cc185",
            "184c030278a142d7833dae5c5dfbf536",
            "5a32b43f54be4df29ab7ccf03262b7be",
            "1ac55a16fb8a4c0bbfa7fe04a6aefc96",
            "e36e54f260e3483894568c0702a6da69",
            "df765f3d475b46a1b034888b0e9af41f",
            "f79a011741a94321a3b3e4a323679af6",
            "86a17caec1784a099bb11d23b48c7634",
            "502d011b4ac64ab68fc0ebec59237419",
            "3a8fca4a0d5949f481c920d0651eec2b",
            "f1b0df7521cf4d2387e8a116a60b6ea5",
            "2302c9cc62044a9eb76229000a471ecd",
            "9923747b426d46a6bfab261759123b65",
            "bd77ee2e213a4295b6e9190b729c14fe",
            "6df3adb62c5743f2824211d40d941f6d",
            "c3da0f13d01448ddab0695d4f99436b1",
            "d5d96b3c8117433894547244a4729cfd",
            "ec5f412e34be4d3cb85b0849aa366b79",
            "d763cf172c2f485d86b35fda7a29a291",
            "312610070ce843e2a45fa0901f103f5b",
            "ec94e41e7c844786a0fa3595afdbcf08",
            "c4b39187ac0642eb8f7c32d9a05b04d1",
            "ce0220dde82c44c2bbd3d72d944e91d7",
            "7601bc5f4941452b8cd911598837696e",
            "38d4579491b140d5b44c64c01997a723",
            "a029b59e605c43ba8a24ca2248e6b327",
            "d074bd68843b43f584611bd0269a410c",
            "aabaa2a9d7634bfab544f1e8091d01b3",
            "3c32241afdde4b768339d73317803092",
            "acfae3fdced84a5e89e4b371ab339034",
            "9436d510ff5047408dca963b7d613b10",
            "19637235d08240b188868b3140591d0f",
            "d43a2d4677f54c84b09dbe8feadcb461",
            "22832f0c757945f0bcd28306ce237748",
            "31c27fd6dc634dca81a40df2ce0c1d8e",
            "fc87eac1f0ed403f8ab3769966c9a40c",
            "8caa2a2383d6405ab7cca959389afc4e",
            "95586d71a7274acd9b5f49d2303066a4"
          ]
        },
        "outputId": "57aef2e3-3f43-40bf-e20e-01163e1a2dc3"
      },
      "source": [
        "def plot_digit(plt, data):\n",
        "# Display MNIST images\n",
        "    data = data.view(28,28)\n",
        "    plt.imshow(data, cmap='gray')\n",
        "\n",
        "mnist_train = datasets.MNIST('./', train=True, download=True, transform=transforms.ToTensor())\n",
        "train_loader = DataLoader(mnist_train, batch_size=1000, shuffle=False)\n",
        "images, labels = next(iter(train_loader))\n",
        "\n",
        "# Extract 10 training samples for two classes of digits\n",
        "im3 = images[labels==3][0:10]\n",
        "im5 = images[labels==8][0:10]\n",
        "print('%d training inputs loaded' %(len(im3)+len(im5)))\n",
        "del images, labels, mnist_train, train_loader\n",
        "\n",
        "# Normalization of inputs\n",
        "nf = (im3.sum() + im5.sum())/(len(im3)+len(im5))\n",
        "for i in range(10):\n",
        "    im3[i] = im3[i]*nf/im3[i].sum()\n",
        "    im5[i] = im5[i]*nf/im5[i].sum()\n",
        "\n",
        "# Plot stimuli intensities\n",
        "plt.rcParams['figure.figsize'] = [16, 4]\n",
        "fig, axs = plt.subplots(2, 10,sharey=True)\n",
        "for i in range(10):\n",
        "    plot_digit(axs[0, i], im3[i])\n",
        "    plot_digit(axs[1, i], im5[i])\n",
        "plt.show()"
      ],
      "execution_count": null,
      "outputs": [
        {
          "output_type": "stream",
          "name": "stdout",
          "text": [
            "Downloading http://yann.lecun.com/exdb/mnist/train-images-idx3-ubyte.gz\n",
            "Downloading http://yann.lecun.com/exdb/mnist/train-images-idx3-ubyte.gz to ./MNIST/raw/train-images-idx3-ubyte.gz\n"
          ]
        },
        {
          "output_type": "display_data",
          "data": {
            "text/plain": [
              "  0%|          | 0/9912422 [00:00<?, ?it/s]"
            ],
            "application/vnd.jupyter.widget-view+json": {
              "version_major": 2,
              "version_minor": 0,
              "model_id": "596bb1b6e3db4854a4438e3e7e691017"
            }
          },
          "metadata": {}
        },
        {
          "output_type": "stream",
          "name": "stdout",
          "text": [
            "Extracting ./MNIST/raw/train-images-idx3-ubyte.gz to ./MNIST/raw\n",
            "\n",
            "Downloading http://yann.lecun.com/exdb/mnist/train-labels-idx1-ubyte.gz\n",
            "Downloading http://yann.lecun.com/exdb/mnist/train-labels-idx1-ubyte.gz to ./MNIST/raw/train-labels-idx1-ubyte.gz\n"
          ]
        },
        {
          "output_type": "display_data",
          "data": {
            "text/plain": [
              "  0%|          | 0/28881 [00:00<?, ?it/s]"
            ],
            "application/vnd.jupyter.widget-view+json": {
              "version_major": 2,
              "version_minor": 0,
              "model_id": "df765f3d475b46a1b034888b0e9af41f"
            }
          },
          "metadata": {}
        },
        {
          "output_type": "stream",
          "name": "stdout",
          "text": [
            "Extracting ./MNIST/raw/train-labels-idx1-ubyte.gz to ./MNIST/raw\n",
            "\n",
            "Downloading http://yann.lecun.com/exdb/mnist/t10k-images-idx3-ubyte.gz\n",
            "Downloading http://yann.lecun.com/exdb/mnist/t10k-images-idx3-ubyte.gz to ./MNIST/raw/t10k-images-idx3-ubyte.gz\n"
          ]
        },
        {
          "output_type": "display_data",
          "data": {
            "text/plain": [
              "  0%|          | 0/1648877 [00:00<?, ?it/s]"
            ],
            "application/vnd.jupyter.widget-view+json": {
              "version_major": 2,
              "version_minor": 0,
              "model_id": "d5d96b3c8117433894547244a4729cfd"
            }
          },
          "metadata": {}
        },
        {
          "output_type": "stream",
          "name": "stdout",
          "text": [
            "Extracting ./MNIST/raw/t10k-images-idx3-ubyte.gz to ./MNIST/raw\n",
            "\n",
            "Downloading http://yann.lecun.com/exdb/mnist/t10k-labels-idx1-ubyte.gz\n",
            "Downloading http://yann.lecun.com/exdb/mnist/t10k-labels-idx1-ubyte.gz to ./MNIST/raw/t10k-labels-idx1-ubyte.gz\n"
          ]
        },
        {
          "output_type": "display_data",
          "data": {
            "text/plain": [
              "  0%|          | 0/4542 [00:00<?, ?it/s]"
            ],
            "application/vnd.jupyter.widget-view+json": {
              "version_major": 2,
              "version_minor": 0,
              "model_id": "aabaa2a9d7634bfab544f1e8091d01b3"
            }
          },
          "metadata": {}
        },
        {
          "output_type": "stream",
          "name": "stdout",
          "text": [
            "Extracting ./MNIST/raw/t10k-labels-idx1-ubyte.gz to ./MNIST/raw\n",
            "\n",
            "20 training inputs loaded\n"
          ]
        },
        {
          "output_type": "display_data",
          "data": {
            "text/plain": [
              "<Figure size 1152x288 with 20 Axes>"
            ],
            "image/png": "[encoded data removed]"
          },
          "metadata": {
            "needs_background": "light"
          }
        }
      ]
    },
    {
      "cell_type": "markdown",
      "metadata": {
        "id": "7qCwH6jFSCVK"
      },
      "source": [
        "### 3.2.2 Define neuron populations and connections\n",
        "\n",
        "There are three neuron populations in the achitecture described in the paper, as illustrated above:\n",
        "\n",
        "- Input: 28x28 randomly spiking neurons with pixel-intensity dependent spike frequencies.\n",
        "- Excitatory neurons: A number of excitatory LIF neurons. 2 in this exercise.\n",
        "- Inhibitory neurons: Here we will **simplify** this part and use two inhibitory synapses instead.\n",
        "\n",
        "Each excitatory neuron recives input from all 28x28 input neurons (all-to-all connectivity) via plastic STDP synapses. The STDP synapse weights are initialized randomly. The excitatory neurons inhibit eachother via one inhibitory synapse on each neuron, thus the name *lateral inhibition*. This simplification is possible in SNNs (but not in biology, since excitatory neurons only form excitatory synapses on the target dendrites)."
      ]
    },
    {
      "cell_type": "code",
      "metadata": {
        "id": "KkUnuz58SCVK"
      },
      "source": [
        "N_pixls = 28\n",
        "N_input = N_pixls*N_pixls\n",
        "\n",
        "neurons = []\n",
        "connections = []\n",
        "\n",
        "# Create input neurons, frequencies will be set later\n",
        "for i in range(N_input):\n",
        "    neurons.append(poisson_neuron(0))\n",
        "    \n",
        "# Create two excitatory neurons\n",
        "e1 = lif_stdp_neuron(N_input+1, w_min=0, w_max=10e-12)\n",
        "e2 = lif_stdp_neuron(N_input+1, w_min=0, w_max=10e-12)\n",
        "neurons.append(e1)\n",
        "neurons.append(e2)\n",
        "I_e1 = N_input\n",
        "I_e2 = N_input+1\n",
        "\n",
        "# Define excitatory STDP synapses for the inputs\n",
        "for j in range(N_input):\n",
        "    e1['w_syn'][j] = 2e-12*(0.1 + 0.9*np.random.rand())\n",
        "    e2['w_syn'][j] = 2e-12*(0.1 + 0.9*np.random.rand())\n",
        "    connections.append([I_e1,j,j]) # [post,syn,pre], see Exercise 3 for details\n",
        "    connections.append([I_e2,j,j]) # [post,syn,pre]\n",
        "\n",
        "# Lateral inhibition (neglecting Dale's law to simplify the exercise)\n",
        "I_inhib = N_input\n",
        "e1['w_syn'][I_inhib] = -1e-12\n",
        "e2['w_syn'][I_inhib] = -1e-12\n",
        "connections.append([I_e1,I_inhib,I_e2])\n",
        "connections.append([I_e2,I_inhib,I_e1])"
      ],
      "execution_count": null,
      "outputs": []
    },
    {
      "cell_type": "code",
      "metadata": {
        "id": "_7WB0uIgSCVL"
      },
      "source": [
        "def reset_input_frequencies(neurons):\n",
        "# Reset frequencies of input neurons to 0 Hz\n",
        "    for i in range(N_pixls):\n",
        "        for j in range(N_pixls):\n",
        "            neurons[i*N_pixls+j]['frequency'] = 0\n",
        "\n",
        "def set_input_frequencies(neurons, image):\n",
        "# Convert pixel intensities to spikerates of random (Poisson) neurons\n",
        "    for i in range(N_pixls):\n",
        "        for j in range(N_pixls):\n",
        "            neurons[i*N_pixls+j]['frequency'] = 5 + 55*image[i][j] # 5-60 Hz\n",
        "            \n",
        "def spikerate_filter(spikerate, spikecount, simtime, alpha):\n",
        "# Low-pass filter for estimation of spikerate\n",
        "    if spikerate > 0:\n",
        "        spikerate = alpha*spikerate + (1-alpha)*spikecount/simtime\n",
        "    else:\n",
        "        spikerate = spikecount/simtime\n",
        "    return spikerate\n",
        "\n",
        "def plot_neuron_weights(n):\n",
        "# Plot the input weights of an excitatory neuron (with STDP synapses)\n",
        "    plt.rcParams['figure.figsize'] = [10, 3]\n",
        "    fig,(ax1,ax2) = plt.subplots(1,2)\n",
        "    img = np.zeros((N_pixls,N_pixls))\n",
        "    for i in range(N_pixls):\n",
        "        for j in range(N_pixls):\n",
        "            img[i][j] = n['w_syn'][i*N_pixls+j]/1e-12\n",
        "    ax1.imshow(img, cmap='viridis')\n",
        "    ax2.hist(np.hstack(img))\n",
        "    ax2.set_xlabel('Weight [pA]')\n",
        "    ax2.set_ylabel('No. synapses')\n",
        "    plt.show()"
      ],
      "execution_count": null,
      "outputs": []
    },
    {
      "cell_type": "code",
      "metadata": {
        "id": "nsEwEUWCSCVL"
      },
      "source": [
        "# Reset the simulation time\n",
        "t = 0\n",
        "dt = 5e-4\n",
        "simtime = 0.35\n",
        "rsttime = 0.15\n",
        "\n",
        "# Reset spikerate variables\n",
        "e1_spikerate = -1\n",
        "e2_spikerate = -1"
      ],
      "execution_count": null,
      "outputs": []
    },
    {
      "cell_type": "markdown",
      "metadata": {
        "id": "kHJ_L28qSCVL"
      },
      "source": [
        "### 3.2.3 Supervised training of the network\n",
        "\n",
        "Lateral inhibition plays a key role for the learning (clustering) capabilities of the network. Here you will manually control the inhibition in a supervised fashion, and investigate the resulting weights of the excitatory cells.\n",
        "\n",
        "**Task 6:** Modify the weights of the inhibitory synapses on the two excitatory neurons e1 and e2 at the indicated positions in the code below, so that e1 is inhibited when a training sample from one of the two classes of digits is presented, and vice versa. Run 50 training iterations and compare your result with the result already provided below. What values of the inhibitory weights enables the two neurons to adapt to the two classes of stimuli? Describe what happened for different values of the inhibitory weights.\n",
        "\n",
        "**Answer:** If you increase the weight, the relative diffrence between  spikecount will go down. If the weight is decreased, the diffrence between the spikecounts will increase, thus makes it easier to detect the correct prediction. \n",
        "\n",
        "**Task 7:** Explain the result obtained in Task 6 in terms of the experience gained from Tasks 1-5. Why does STDP produce this result, how can the neuron weights successfully adapt to the stimuli?\n",
        "\n",
        "**Answer:** In tasks 1-5 we saw the theoratical approach, which is now implemented to actually train a network. STDP produces this result since the neuron that produces more spikes (higher spike count) inhibits the 'other' (lateral) neuron."
      ]
    },
    {
      "cell_type": "code",
      "metadata": {
        "id": "OTDlcrb-SCVL",
        "colab": {
          "base_uri": "https://localhost:8080/",
          "height": 699
        },
        "outputId": "ce066f66-460f-4d9d-c804-2119d719bc0b"
      },
      "source": [
        "from __future__ import print_function   # Python 2.X support for print function, not needed in Python 3.X\n",
        "\n",
        "# Speed up learning a bit\n",
        "e1['gamma'] = 5\n",
        "e2['gamma'] = 5\n",
        "\n",
        "for iterations in range(20): # Training iterations\n",
        "\n",
        "    # Start time\n",
        "    t0 = t\n",
        "    \n",
        "    # Spike counts of e1 and e2\n",
        "    e1_count = 0\n",
        "    e2_count = 0\n",
        "    \n",
        "    # Sample a different digit every second iteration\n",
        "    stimuli = []\n",
        "    if iterations % 2 == 0:\n",
        "        stimuli = im3[int(10*np.random.rand())][0]\n",
        "        ##############################################################################\n",
        "        # INSERT SUPERVISION SIGNAL HERE, INHIBIT ONE OF THE TWO STDP NEURONS\n",
        "        e1['w_syn'][I_inhib] = 0\n",
        "        e2['w_syn'][I_inhib] = -200e-12\n",
        "        ##############################################################################\n",
        "    else:\n",
        "        stimuli = im5[int(10*np.random.rand())][0]\n",
        "        ##############################################################################\n",
        "        # INSERT SUPERVISION SIGNAL HERE, INHIBIT ONE OF THE TWO STDP NEURONS\n",
        "        e1['w_syn'][I_inhib] = -200e-12\n",
        "        e2['w_syn'][I_inhib] = 0\n",
        "        ##############################################################################\n",
        "    set_input_frequencies(neurons, stimuli)\n",
        "    \n",
        "    # Simulate the network\n",
        "    while t < t0+simtime:\n",
        "    \n",
        "        # Update network, including STDP\n",
        "        spikes = update(dt, t, neurons, connections)\n",
        "        \n",
        "        # Count number of spikes from e1 and e2\n",
        "        e1_count += spikes.count(I_e1)\n",
        "        e2_count += spikes.count(I_e2)\n",
        "        \n",
        "        # Timestep completed\n",
        "        t += dt\n",
        "        print('\\r t = %fs (%d%%)' % (t, 100*(t-t0)/(simtime+rsttime)), end='')\n",
        "\n",
        "    # Let neurons and synapses rest before the next stimuli \n",
        "    reset_input_frequencies(neurons)\n",
        "    while t < t0+simtime+rsttime:\n",
        "        spikes = update(dt, t, neurons, connections)\n",
        "        e1_count += spikes.count(I_e1)\n",
        "        e2_count += spikes.count(I_e2)\n",
        "        t += dt\n",
        "        print('\\r t = %fs (%d%%)' % (t, 100*(t-t0)/(simtime+rsttime)), end='')\n",
        "\n",
        "    # Refresh the plots\n",
        "    clear_output()\n",
        "    print('\\nStimuli:')\n",
        "    plot_digit(plt,stimuli)\n",
        "    plt.show()\n",
        "    print('Excitatory cell e1 spike count: %d, and weight distribution after %d seconds:' % (e1_count,t))\n",
        "    plot_neuron_weights(e1)\n",
        "    print('Excitatory cell e2 spike count: %d, and weight distribution after %d seconds:' % (e2_count,t))\n",
        "    plot_neuron_weights(e2)\n",
        "    plt.show()"
      ],
      "execution_count": null,
      "outputs": [
        {
          "output_type": "stream",
          "name": "stdout",
          "text": [
            "\n",
            "Stimuli:\n"
          ]
        },
        {
          "output_type": "display_data",
          "data": {
            "text/plain": [
              "<Figure size 720x216 with 1 Axes>"
            ],
            "image/png": "[encoded data removed]"
          },
          "metadata": {
            "needs_background": "light"
          }
        },
        {
          "output_type": "stream",
          "name": "stdout",
          "text": [
            "Excitatory cell e1 spike count: 9, and weight distribution after 10 seconds:\n"
          ]
        },
        {
          "output_type": "display_data",
          "data": {
            "text/plain": [
              "<Figure size 720x216 with 2 Axes>"
            ],
            "image/png": "[encoded data removed]"
          },
          "metadata": {
            "needs_background": "light"
          }
        },
        {
          "output_type": "stream",
          "name": "stdout",
          "text": [
            "Excitatory cell e2 spike count: 114, and weight distribution after 10 seconds:\n"
          ]
        },
        {
          "output_type": "display_data",
          "data": {
            "text/plain": [
              "<Figure size 720x216 with 2 Axes>"
            ],
            "image/png": "[encoded data removed]"
          },
          "metadata": {
            "needs_background": "light"
          }
        }
      ]
    },
    {
      "cell_type": "markdown",
      "metadata": {
        "id": "PAEUsIiLSCVM"
      },
      "source": [
        "**Task 8:** Next, switch off learning and adjust the lateral inhibition so that your network can classify samples in your training set. How is the predicted class determined? Investigate if you can get 100% correct classification on the training set. (You do not have to consider a validation and test set in this exercise)\n",
        "\n",
        "**Answer:** The predicted class is determined by the amount of spikes and 15 out of the 15 samples are correctly classified with inhibitory weights e1 = e2 = -100e-12"
      ]
    },
    {
      "cell_type": "code",
      "metadata": {
        "id": "dqHUj9KPSCVM",
        "colab": {
          "base_uri": "https://localhost:8080/"
        },
        "outputId": "597c1877-4bc7-4e80-b279-0aca5504d4c7"
      },
      "source": [
        "e1['gamma'] = 0\n",
        "e2['gamma'] = 0\n",
        "\n",
        "e1['w_syn'][I_inhib] = -100e-12\n",
        "e2['w_syn'][I_inhib] = -100e-12\n",
        "\n",
        "total = 0\n",
        "correct = 0\n",
        "test = True\n",
        "\n",
        "for iterations in range(15):\n",
        "\n",
        "    # Start time\n",
        "    t0 = t\n",
        "    \n",
        "    # Spike counts of e1 and e2\n",
        "    e1_count = 0\n",
        "    e2_count = 0\n",
        "    \n",
        "    # Sample a different digit every second iteration\n",
        "    stimuli = []\n",
        "    if iterations % 2 == 0:\n",
        "        stimuli = im3[int(10*np.random.rand())][0]\n",
        "        test = True\n",
        "        # INSERT SUPERVISION SIGNAL HERE, INHIBIT ONE OF THE TWO STDP NEURONS\n",
        "        #e1['w_syn'][I_inhib] = 0\n",
        "        #e2['w_syn'][I_inhib] = -300e-12\n",
        "    else:\n",
        "        stimuli = im5[int(10*np.random.rand())][0]\n",
        "        test = False\n",
        "        # INSERT SUPERVISION SIGNAL HERE, INHIBIT ONE OF THE TWO STDP NEURONS\n",
        "        #e1['w_syn'][I_inhib] = -300e-12\n",
        "        #e2['w_syn'][I_inhib] = 0\n",
        "    set_input_frequencies(neurons, stimuli)\n",
        "    \n",
        "    # Simulate the network\n",
        "    while t < t0+simtime:\n",
        "    \n",
        "        # Update network, including STDP\n",
        "        spikes = update(dt, t, neurons, connections)\n",
        "        \n",
        "        # Count number of spikes from e1 and e2\n",
        "        e1_count += spikes.count(I_e1)\n",
        "        e2_count += spikes.count(I_e2)\n",
        "        \n",
        "        # Timestep completed\n",
        "        t += dt\n",
        "        print('\\r t = %fs (%d%%)' % (t, 100*(t-t0)/(simtime+rsttime)), end='')\n",
        "    \n",
        "    total += 1\n",
        "    if e2_count < e1_count:\n",
        "      if test == True:\n",
        "        correct += 1\n",
        "    if e2_count > e1_count:\n",
        "      if test == False:\n",
        "        correct += 1\n",
        "\n",
        "    # Let neurons and synapses rest before the next stimuli \n",
        "    reset_input_frequencies(neurons)\n",
        "    while t < t0+simtime+rsttime:\n",
        "        spikes = update(dt, t, neurons, connections)\n",
        "        e1_count += spikes.count(I_e1)\n",
        "        e2_count += spikes.count(I_e2)\n",
        "        t += dt\n",
        "        print('\\r t = %fs (%d%%)' % (t, 100*(t-t0)/(simtime+rsttime)), end='')\n",
        "\n",
        "print(correct/total)\n",
        "    # Refresh the plots\n",
        "    #clear_output()\n",
        "    #print('\\nStimuli:')\n",
        "    #plot_digit(plt,stimuli)\n",
        "    #plt.show()\n",
        "    #print('Excitatory cell e1 spike count: %d, and weight distribution after %d seconds:' % (e1_count,t))\n",
        "    #plot_neuron_weights(e1)\n",
        "    #print('Excitatory cell e2 spike count: %d, and weight distribution after %d seconds:' % (e2_count,t))\n",
        "    #plot_neuron_weights(e2)\n",
        "    #plt.show()"
      ],
      "execution_count": null,
      "outputs": [
        {
          "output_type": "stream",
          "name": "stdout",
          "text": [
            " t = 17.507000s (100%)0.9333333333333333\n"
          ]
        }
      ]
    },
    {
      "cell_type": "markdown",
      "metadata": {
        "id": "8vcGkIuvSCVM"
      },
      "source": [
        "### 3.2.4 Optional task: Unsupervised learning\n",
        "\n",
        "In principle, it is possible to adapt the inhibition of e1 and e2 during training, so that the synapses self-organize via STDP in a similar way as in Section 3.2.3 but without any supervision signal. This requires homeostatic regulation of the e1 and e2 spikerates (described in the lectures and the papers referenced above). The trick here is to establish the right balance between lateral inhibition and spikerate regulation, so that the excitatory cells are mutually activated and deactivated when different stimuli are presented.\n",
        "\n",
        "Can you solve this *challenge*? Sample code is provided below"
      ]
    },
    {
      "cell_type": "code",
      "metadata": {
        "id": "-kg7sSZiSCVM",
        "colab": {
          "base_uri": "https://localhost:8080/",
          "height": 131
        },
        "outputId": "461907eb-59ac-49fb-ddba-97aeaab6cc55"
      },
      "source": [
        "simtime = 0.35  # seconds, period when stimuli is presented\n",
        "rsttime = 0.15  # seconds, period when no stimuli is presented\n",
        "\n",
        "for iterations in range(2):\n",
        "\n",
        "    t0 = t\n",
        "\n",
        "    e1_count = 0\n",
        "    e2_count = 0\n",
        "    \n",
        "    # Draw a different digit every second iteration\n",
        "    stimuli = []\n",
        "    if iterations % 2 == 0:\n",
        "        stimuli = im5[int(10*np.random.rand())][0]\n",
        "    else:\n",
        "        stimuli = im3[int(10*np.random.rand())][0]\n",
        "    set_input_frequencies(neurons, stimuli)\n",
        "    \n",
        "    # Stimulate the network\n",
        "    while t < t0+simtime:\n",
        "    \n",
        "        # Update network, including STDP\n",
        "        spikes = update(dt, t, neurons, connections)\n",
        "        \n",
        "        # Count number of spikes from e1 and e2\n",
        "        e1_count += spikes.count(N_input+0)\n",
        "        e2_count += spikes.count(N_input+1)\n",
        "        \n",
        "        # Timestep completed\n",
        "        t += dt\n",
        "        print('\\r t = %fs (%d%%)' % (t, 100*(t-t0)/(simtime+rsttime)), end = '')\n",
        "\n",
        "    # Homeostatic regulation of spikerate, update the spiking threshold of the excitatory neurons\n",
        "    e1_spikerate = spikerate_filter(e1_spikerate, e1_count, simtime, 0.5)\n",
        "    e2_spikerate = spikerate_filter(e2_spikerate, e2_count, simtime, 0.5)\n",
        "    if e1_spikerate   ...\n",
        "        e1['u_thres'] ...\n",
        "    elif e2_spikerate ...\n",
        "        e2['u_thres'] ...\n",
        "        \n",
        "    # Let neurons and synapses rest before the next stimuli \n",
        "    reset_input_frequencies(neurons)\n",
        "    while t < t0+simtime+rsttime:\n",
        "        spikes = update(dt, t, neurons, connections)\n",
        "        e1_count += spikes.count(N_input+0)\n",
        "        e2_count += spikes.count(N_input+1)\n",
        "        t += dt\n",
        "        print('\\r t = %fs (%d%%)' % (t, 100*(t-t0)/(simtime+rsttime)), end = '')\n",
        "\n",
        "    # Refresh the plots\n",
        "    clear_output()\n",
        "    print('\\nStimuli:')\n",
        "    plot_digit(plt,stimuli)\n",
        "    plt.show()\n",
        "    print('Excitatory cell e1 spike count: %d, and weight distribution:' % (e1_count))\n",
        "    plot_neuron_weights(e1)\n",
        "    print('Excitatory cell e2 spike count: %d, and weight distribution:' % (e2_count))\n",
        "    plot_neuron_weights(e2)\n",
        "    print('Spikerates of e1 and e2 are %1.1f Hz and %1.1f Hz, respectively.' % (e1_spikerate,e2_spikerate))\n",
        "    print('Thresholds are %1.4f mV and %1.4f mV, respectively.' % (e1['u_thres'],e2['u_thres']))\n",
        "    print('Inh weights are %1.2e pA and %1.2e pA, respectively.' % (e1['w_syn'][I_inhib],e2['w_syn'][I_inhib]))"
      ],
      "execution_count": null,
      "outputs": [
        {
          "output_type": "error",
          "ename": "SyntaxError",
          "evalue": "ignored",
          "traceback": [
            "\u001b[0;36m  File \u001b[0;32m\"<ipython-input-14-feb62a812a1a>\"\u001b[0;36m, line \u001b[0;32m36\u001b[0m\n\u001b[0;31m    if e1_spikerate   ...\u001b[0m\n\u001b[0m                        ^\u001b[0m\n\u001b[0;31mSyntaxError\u001b[0m\u001b[0;31m:\u001b[0m invalid syntax\n"
          ]
        }
      ]
    },
    {
      "cell_type": "markdown",
      "metadata": {
        "id": "r0IOEBCESCVM"
      },
      "source": [
        "# 4 Comment and further reading\n",
        "\n",
        "In this exercise you have considered a tiny network of two neurons. In the paper considered as inspiration for this exercise the accuracy on the test set increases with the number of excitatory neurons in the population:\n",
        "\n",
        "![MNIST test result](https://www.frontiersin.org/files/Articles/149773/fncom-09-00099-r4/image_m/fncom-09-00099-g002.jpg)\n",
        "\n",
        "An interesting aspect is that the STDP learning rule is a local rule that does not depend on global gradients. The training protocol is also unsupervised up to the point where the activities of different neuron populations are linked to class labels. Tnus, this SNN solves an unsupervised clustering task. After clustering the inputs, a class label can be associated with neurons that are activated for one specific digit. The activity of the subset/population of neurons that tend to fire for one particular input class determine which class the input belongs to.\n",
        "\n",
        "Similar accuracies can be obtained with SNN and ANN; [Spiking neural networks for handwritten digit recognition—Supervised learning and network optimization](https://doi.org/10.1016/j.neunet.2018.03.019)\n",
        "\n",
        "There is more to learn about how different spike codes and learning architectures can be further developed to improve on these results, see for example: [Deep Learning With Spiking Neurons: Opportunities and Challenges](https://doi.org/10.3389/fnins.2018.00774)"
      ]
    }
  ]
}
