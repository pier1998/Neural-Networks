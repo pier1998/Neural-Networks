{
  "cells": [
    {
      "cell_type": "markdown",
      "metadata": {
        "id": "4otg_H05g1Vm"
      },
      "source": [
        "# Neural Networks and Learning Machines\n",
        "\n",
        "## ANN Exercise 2 - Natural Language Processing (NLP)\n",
        "\n",
        "Natural Language Processing (NLP) is a set of techniques and algorithms that use computers for analyzing natural human language.  NLP can be used to solve a variety of problems, for example:\n",
        "\n",
        "* Subject Matter Identification - What are the topics, people, companies or places discussed in this text?\n",
        "* Sentiment Analysis - Does this text convey a positive, negative or neutral feeling about an entity or subject matter?\n",
        "* Machine Translation - Convert the input from one language to another, for example, from English to French\n",
        "* Text-to-Speech - Convert the spoken input into its written form\n",
        "* Understanding and Interpretation - What information will answer a specific question?\n",
        "\n",
        "This exercise will teach you the basics of NLP using neural networks, focusing on text classification.\n",
        "First you will learn a few common ways to encode/embed text as vectors/matrices such that a neural network can use it as an input.\n",
        "Then you'll use those embeddings in order to embed a dataset of texts and classify them.\n",
        "Finally you'll learn how to use some more advanced neural networks models in order to generate text.\n",
        "\n",
        "Before you get started you'll also need to download the file 'wiki.simple.vec' from Canvas, which contains word embeddings that will be used in this exercise. Do **NOT** include 'wiki.simple.vec' in your submission of this exercise.\n",
        "\n",
        "### Literature\n",
        "\n",
        "The following sections in the [course book](https://www.deeplearningbook.org/) are relevant for this exercise.\n",
        "* 12.4 - Natural Language Processing\n",
        "   - (more subsection details as far from every subsection of NLP is useful to the course)\n",
        "\n",
        "Optional reading for more details on RNNs:\n",
        "* 10 - Sequence Modeling: Recurrentand Recursive Nets"
      ]
    },
    {
      "cell_type": "code",
      "execution_count": null,
      "metadata": {
        "colab": {
          "base_uri": "https://localhost:8080/"
        },
        "id": "pb6ta5Q1g1Vu",
        "outputId": "c435f118-6b87-42bb-fbd6-d6c0150ea8ac"
      },
      "outputs": [
        {
          "output_type": "stream",
          "name": "stdout",
          "text": [
            "Collecting torchtext==0.6.0\n",
            "  Downloading torchtext-0.6.0-py3-none-any.whl (64 kB)\n",
            "\u001b[?25l\r\u001b[K     |█████                           | 10 kB 28.1 MB/s eta 0:00:01\r\u001b[K     |██████████▏                     | 20 kB 31.6 MB/s eta 0:00:01\r\u001b[K     |███████████████▎                | 30 kB 36.0 MB/s eta 0:00:01\r\u001b[K     |████████████████████▍           | 40 kB 24.9 MB/s eta 0:00:01\r\u001b[K     |█████████████████████████▌      | 51 kB 10.7 MB/s eta 0:00:01\r\u001b[K     |██████████████████████████████▋ | 61 kB 11.7 MB/s eta 0:00:01\r\u001b[K     |████████████████████████████████| 64 kB 2.4 MB/s \n",
            "\u001b[?25hRequirement already satisfied: tqdm in /usr/local/lib/python3.7/dist-packages (from torchtext==0.6.0) (4.62.3)\n",
            "Requirement already satisfied: torch in /usr/local/lib/python3.7/dist-packages (from torchtext==0.6.0) (1.10.0+cu111)\n",
            "Requirement already satisfied: numpy in /usr/local/lib/python3.7/dist-packages (from torchtext==0.6.0) (1.19.5)\n",
            "Requirement already satisfied: requests in /usr/local/lib/python3.7/dist-packages (from torchtext==0.6.0) (2.23.0)\n",
            "Requirement already satisfied: six in /usr/local/lib/python3.7/dist-packages (from torchtext==0.6.0) (1.15.0)\n",
            "Collecting sentencepiece\n",
            "  Downloading sentencepiece-0.1.96-cp37-cp37m-manylinux_2_17_x86_64.manylinux2014_x86_64.whl (1.2 MB)\n",
            "\u001b[K     |████████████████████████████████| 1.2 MB 17.9 MB/s \n",
            "\u001b[?25hRequirement already satisfied: idna<3,>=2.5 in /usr/local/lib/python3.7/dist-packages (from requests->torchtext==0.6.0) (2.10)\n",
            "Requirement already satisfied: certifi>=2017.4.17 in /usr/local/lib/python3.7/dist-packages (from requests->torchtext==0.6.0) (2021.10.8)\n",
            "Requirement already satisfied: urllib3!=1.25.0,!=1.25.1,<1.26,>=1.21.1 in /usr/local/lib/python3.7/dist-packages (from requests->torchtext==0.6.0) (1.24.3)\n",
            "Requirement already satisfied: chardet<4,>=3.0.2 in /usr/local/lib/python3.7/dist-packages (from requests->torchtext==0.6.0) (3.0.4)\n",
            "Requirement already satisfied: typing-extensions in /usr/local/lib/python3.7/dist-packages (from torch->torchtext==0.6.0) (3.10.0.2)\n",
            "Installing collected packages: sentencepiece, torchtext\n",
            "  Attempting uninstall: torchtext\n",
            "    Found existing installation: torchtext 0.11.0\n",
            "    Uninstalling torchtext-0.11.0:\n",
            "      Successfully uninstalled torchtext-0.11.0\n",
            "Successfully installed sentencepiece-0.1.96 torchtext-0.6.0\n"
          ]
        }
      ],
      "source": [
        "!pip install -U torchtext==0.6.0\n",
        "from torchtext.datasets import AG_NEWS\n",
        "from sklearn.metrics import confusion_matrix\n",
        "\n",
        "import torch\n",
        "import torch.nn as nn\n",
        "import torch.nn.functional as F\n",
        "import torch.optim as optim\n",
        "from torch.utils.data import DataLoader\n",
        "import torchvision\n",
        "from torchvision import datasets, transforms\n",
        "from torchtext.datasets import AG_NEWS\n",
        "import torchtext\n",
        "import matplotlib.pyplot as plt\n",
        "import numpy\n",
        "import random\n",
        "import gensim"
      ]
    },
    {
      "cell_type": "markdown",
      "metadata": {
        "id": "-6emyhfOg1Vw"
      },
      "source": [
        "## 1. Turning sentences into matrices\n",
        "\n",
        "As you know a neural network can only process numbers, so anything we want to process with a neural networks needs to be encoded (embedded) into number, aka vectors.\n",
        "We've technically already done this for images in exercise 0 and ANN1 where we encoded the images of handwritten digits as numbers representing the grayscale value of each pixel.\n",
        "For images this process was intuitive as we're already used to representing pixels as numbers, but how do you do this for text?<img src=\"attachment:image.png\" width=\"600\">\n",
        "\n",
        "There are many different ways to encode text for neural network applications. You can replace each letter by their position in the alphabet, you can replace each word by their position in some dictionary, you can create complex vectors that distribute words in some N-dimensional space, etc, etc.\n",
        "Most encodings of text is done on the word level, since we know that we want to use words anyways and learning to create words from letters turns out to be quite challenging ('runes' and 'nurse' contain the exact same letters but mean very different things).\n",
        "\n",
        "In this exercise we will learn to create and use two types of embeddings:\n",
        "* Bag of Words (BoW)\n",
        "* Word2Vec (Skip-gram)\n",
        "\n",
        "We will also learn about another Word2Vec implementation called Continuous Bag of Words (CBoW), and you may implement this as well as an optional task.\n",
        " \n",
        "Finally we will also learn to use pretrained embeddings, where you simply use embeddings created by someone else.\n",
        "\n",
        "Before we can start with each embedding, we have to discuss the so-called preprocessing pipeline.\n",
        "The preprocessing pipeline is simply all the step we take from raw data (text) to the input of our neural networks.\n",
        "There are many ways to form such a pipeline, with many different optional steps to add on, but generally it consists of some or all of the following parts:\n",
        "* Cleaning - Removing unnecessary/unimportant parts of the text (like making all letters lowercase, removing special characters, etc)\n",
        "   - Example: \"Does Michael like 99 cats?\" $\\rightarrow$ \"does michael like 99 cats\"\n",
        "* Tokenization - Splitting the text into its constituent parts (like words, letters, and/or symbols depending on what embedding you use)\n",
        "   - Example: \"does michael like 99 cats\" $\\rightarrow$ \\[\"does\", \"michael\", \"like\", \"99\", \"cats\"\\]\n",
        "* Stemming/lemmatization - Switch all words into their baseform (like removing plural, changing verbs to their root form, etc)\n",
        "   - Example: \\[\"does*\", \"michael\", \"like\", \"99\", \"cats\"\\] $\\rightarrow$ \\[\"do\", \"michael\", \"like\", \"99\", \"cat\"\\]\n",
        "* Replace rare/special tokens - Switch some rare (only shows up once or twice in the dataset) or special (names, numbers, etc) tokens for tags\n",
        "   - Example: \\[\"do\", \"michael\", \"like\", \"99\", \"cat\"\\] $\\rightarrow$ \\[\"do\", \"\\<NAME\\>\", \"like\", \"\\<NUMBER\\>\", \"cat\"\\]\n",
        "* Indexing - Create a token to number mapping and replace each token by its number\n",
        "   - Example: \\[\"do\", \"\\<NAME\\>\", \"like\", \"\\<NUMBER\\>\", \"cat\"\\] $\\rightarrow$ \\[454, 3, 872, 2, 234\\]\n",
        "* Embedding - Use an embedder to get a vector to use as input to the machine learning model.\n",
        "\n",
        "This might seem overwhelming but there are a lot of toolkits that will help you with these steps.\n",
        "This might also seem like we're getting rid of a lot of useful data, and that's true but often having well-formatted data is better than having more data.\n",
        "In the end it depends from problem to problem which preprocessing steps are best.\n",
        "For this exercise you will only need to think of tokenizing, indexing, and embedding.\n",
        "The AG News dataset have already been tokenized and indexed, but you will need to create a tokeizer and indexer for the \"cat on the mat\" dataset.\n",
        "\n",
        "### Datasets\n",
        "\n",
        "In this exercise we will use two text datasets the \"cat on the mat\"-dataset and the [AG News dataset](https://www.kaggle.com/amananandrai/ag-news-classification-dataset). The code for creating/downloading both datasets are provided below. The former dataset is a small dummy dataset we will use to visulize and understand the methods. AG News is a large dataset of excerpts from news articles from a few different topics that can be used to train, for example, a news classifier."
      ]
    },
    {
      "cell_type": "markdown",
      "metadata": {
        "id": "QgPxB3GKg1Vy"
      },
      "source": [
        "#### \"Cat on the mat\"-dataset"
      ]
    },
    {
      "cell_type": "code",
      "execution_count": null,
      "metadata": {
        "colab": {
          "base_uri": "https://localhost:8080/"
        },
        "id": "-4pJF9vzg1Vy",
        "outputId": "f7bfa46f-a2a7-4e87-96ed-76851831597e"
      },
      "outputs": [
        {
          "output_type": "stream",
          "name": "stdout",
          "text": [
            "There are 128 sentences in the corpus, with a vocabulary of 18 words\n",
            "The first sentence in the corpus is \"the cat sat on the mat\"\n"
          ]
        }
      ],
      "source": [
        "import itertools\n",
        "\n",
        "animals = ['cat','dog','goat','elephant','eagle','zebra','rhino', 'hippo']\n",
        "actions = ['sat','stood','jumped','slept']\n",
        "furniture = ['mat','rug','sofa','bed']\n",
        "\n",
        "# Generate all combinations of animal, action and furniture\n",
        "animal_corpus = [f'the {x[0]} {x[1]} on the {x[2]}' for x in itertools.product(animals, actions, furniture)]\n",
        "vocabulary_size = len(animals) + len(actions) + len(furniture) + 2\n",
        "\n",
        "print(f'There are {len(animal_corpus)} sentences in the corpus, with a vocabulary of {vocabulary_size} words')\n",
        "print(f'The first sentence in the corpus is \"{animal_corpus[0]}\"')\n"
      ]
    },
    {
      "cell_type": "markdown",
      "metadata": {
        "id": "vvSz5eZjg1Vz"
      },
      "source": [
        "#### AG News dataset"
      ]
    },
    {
      "cell_type": "code",
      "execution_count": null,
      "metadata": {
        "colab": {
          "base_uri": "https://localhost:8080/"
        },
        "id": "LpIAhUeCg1Vz",
        "outputId": "b3c9e1bc-d167-4645-dbea-ecd01d62db7b",
        "scrolled": true
      },
      "outputs": [
        {
          "output_type": "stream",
          "name": "stderr",
          "text": [
            "120000lines [00:04, 25587.53lines/s]\n",
            "120000lines [00:09, 12418.38lines/s]\n",
            "7600lines [00:00, 12861.40lines/s]\n"
          ]
        }
      ],
      "source": [
        "## Download,tokenize, and index the AG News dataset\n",
        "# This is done in a separate cell as indexing takes some time\n",
        "ag_train, ag_test = AG_NEWS(ngrams=1, vocab=None, root='data')"
      ]
    },
    {
      "cell_type": "code",
      "execution_count": null,
      "metadata": {
        "colab": {
          "base_uri": "https://localhost:8080/"
        },
        "id": "fiFkz3M_g1V0",
        "outputId": "96fc5695-6432-46d8-b9f5-b60d540fb73f",
        "scrolled": true
      },
      "outputs": [
        {
          "output_type": "stream",
          "name": "stdout",
          "text": [
            "ag_train contains 120000 labelled text snippets and has a vocabulary size of 95812\n",
            "On index 0, ag_train contains:\n",
            "(2, tensor([  432,   426,     2,  1606, 14839,   114,    67,     3,   849,    14,\n",
            "           28,    15,    28,    16, 50726,     4,   432,   375,    17,    10,\n",
            "        67508,     7, 52259,     4,    43,  4010,   784,   326,     2]))\n",
            "which has the label 2 that translates into \"Business\" and the text snippet itself translates into:\n",
            "wall st . bears claw back into the black ( reuters ) reuters - short-sellers , wall street ' s dwindling\\band of ultra-cynics , are seeing green again .\n"
          ]
        }
      ],
      "source": [
        "# Our labels are numbers, here's what type of article they represent\n",
        "ag_labels = {\n",
        "    0 : 'World',\n",
        "    1 : 'Sports',\n",
        "    2 : 'Business',\n",
        "    3 : 'Sci/Tec'\n",
        "}\n",
        "\n",
        "# vocab is a class that will give us the index for any given word/token (vocab['hi'] = <some number>)\n",
        "vocab = ag_train.get_vocab()\n",
        "\n",
        "# nr2word is a list that contains the actual tokens for a given index (nr2word[5678] = <some word/token>)\n",
        "nr2word = vocab.itos\n",
        "\n",
        "# Let's make a function that takes an entire tensor and returns the string version of that tensor\n",
        "def tensor2text(tensor):\n",
        "    return ' '.join([nr2word[index] for index in tensor])\n",
        "\n",
        "# And a function to turn text into the indexed version (though it won't work with special characters)\n",
        "def text2tensor(text):\n",
        "    tensor = torch.Tensor([vocab[token] for token in text.split(' ')])\n",
        "    return tensor.int()\n",
        "\n",
        "# And let's see what the dataset actually contains\n",
        "ag_train_len = len(ag_train) #Get the number of entries in the AG_NEWS dataset\n",
        "\n",
        "print(\n",
        "    f'ag_train contains {len(ag_train)} labelled text snippets '\n",
        "    f'and has a vocabulary size of {len(vocab)}\\n'\n",
        "    f'On index 0, ag_train contains:\\n{ag_train[0]}\\n'\n",
        "    f'which has the label {ag_train[0][0]} that translates into \"{ag_labels[ag_train[0][0]]}\" '\n",
        "    f'and the text snippet itself translates into:\\n{tensor2text(ag_train[0][1])}'\n",
        ")"
      ]
    },
    {
      "cell_type": "markdown",
      "metadata": {
        "id": "GYOp3poIg1V1"
      },
      "source": [
        "## Tokenizing and Indexing\n",
        "This new corpus of texts needs to be tokenized and indexed before we can start using it.\n",
        "The tokenizer only needs to be able to handle this simple dataset, so it can be fairly simple.\n",
        "\n",
        "**Exercise 1.1:** Write a tokenizer and an vocabulary class with a function that will give you the index of a token, and a function that will give you the token at a certain index.\n"
      ]
    },
    {
      "cell_type": "code",
      "execution_count": null,
      "metadata": {
        "id": "Toj0erapg1V2"
      },
      "outputs": [],
      "source": [
        "def simple_tokenizer(text):\n",
        "    return text.split()\n",
        "\n",
        "class SimpleVocabulary():\n",
        "    \n",
        "    def __init__(self, corpus):\n",
        "        '''\n",
        "        Takes a corpus, tokenizes it, and sets the internal variables needed\n",
        "        to return the index of any given word (and what word has a given index)\n",
        "        Args:\n",
        "            corpus ([str]): The corpus as a list of non-tokenized texts\n",
        "        '''\n",
        "        ## WRITE A FUNCTION TO INITIALIZE THE VOCABULARY\n",
        "        # HINT: Create a dictionary that contains the index for each unique word and antother to contain the word for a given index\n",
        "        # HINT: Each new, previously unseen token from the tokenized corpus, should be entered into the dictionaries\n",
        "\n",
        "        self.token2index = {}\n",
        "        self.index2token = []\n",
        "        for text in corpus:\n",
        "            for token in simple_tokenizer(text):\n",
        "                if token not in self.token2index:\n",
        "                    self.token2index[token] = len(self.token2index)\n",
        "                    self.index2token.append(token)\n",
        "    \n",
        "    def get_index(self, token):\n",
        "        '''\n",
        "        Takes a token and returns the index of that token\n",
        "        Args:\n",
        "            token (str): A token\n",
        "        Returns (int): The index of the given token\n",
        "        '''\n",
        "        return self.token2index[token]\n",
        "\n",
        "    def get_token(self, index):\n",
        "        '''\n",
        "        Takes an index and returns the token that index represents\n",
        "        Args:\n",
        "            index (int): An index\n",
        "        Returns (str): The token that the given index represents\n",
        "        '''\n",
        "\n",
        "        return self.index2token[index]\n",
        "\n",
        "    \n",
        "    def __len__(self):\n",
        "        '''\n",
        "        Returns (int): The number of words in the vocabulary\n",
        "        '''\n",
        "        \n",
        "        return len(self.index2token)\n",
        "    \n",
        "def index_sequence(sequence, vocabulary):\n",
        "    '''\n",
        "    Takes a tokenized text and a vocabulary and returns an indexed sequence\n",
        "    Args:\n",
        "        sequence ([str]): A list of individual tokens\n",
        "    Returns ([int]): A list of indexes\n",
        "    '''\n",
        "    \n",
        "    return [vocabulary.get_index(token) for token in sequence]\n",
        "    "
      ]
    },
    {
      "cell_type": "markdown",
      "metadata": {
        "id": "FIMy-rz6g1V3"
      },
      "source": [
        "**Check your solution**: The code cell below will try to tokenize and index a few sentences"
      ]
    },
    {
      "cell_type": "code",
      "execution_count": null,
      "metadata": {
        "colab": {
          "base_uri": "https://localhost:8080/"
        },
        "id": "Ef2FRcdVg1V3",
        "outputId": "065537cf-cc85-456a-f17b-0994722f4cc3"
      },
      "outputs": [
        {
          "output_type": "stream",
          "name": "stdout",
          "text": [
            "['the', 'cat', 'stood', 'on', 'the', 'mat']\n",
            "[0, 1, 8, 3, 0, 4]\n",
            "simple_tokenizer and SimpleVocabulary seems to be properly implemented!\n"
          ]
        }
      ],
      "source": [
        "animal_vocab = SimpleVocabulary(animal_corpus)\n",
        "test_sequence = 'the cat stood on the mat'\n",
        "tokenized_sequence = simple_tokenizer(test_sequence)\n",
        "print(tokenized_sequence)\n",
        "indexed_sequence = index_sequence(tokenized_sequence, animal_vocab)\n",
        "print(indexed_sequence)\n",
        "assert len(tokenized_sequence) == 6, 'The tokenized sequence should contain all words of the original sequence'\n",
        "assert len(tokenized_sequence) == len(indexed_sequence), 'The indexed sequence should be as long as the tokenized sequence'\n",
        "assert indexed_sequence[0] == indexed_sequence[4], 'The index of the same word should be the same'\n",
        "assert len(animal_vocab) >= 18, 'There should be at least 18 words in the vocabulary (more if you have a out-of-vocabulary token/index)'\n",
        "print('simple_tokenizer and SimpleVocabulary seems to be properly implemented!')"
      ]
    },
    {
      "cell_type": "markdown",
      "metadata": {
        "id": "vGe-fmf5g1V4"
      },
      "source": [
        "## Bag of Words (BoW)\n",
        "\n",
        "Bag of Words is often seen as the default way to embed text as it is very easy to do.\n",
        "In bag of words each text is represented as a N-dimensional vector, where N is the number of words in the vocabulary.\n",
        "Each word in the vocabulary is given an index and each text is represented by a vector where the index of each word contains the number of occurences of this word in the text.\n",
        "For example if we have the vocabulary \\[\"the\", \"cat\", \"dog\", \"sat\", \"on\", \"mat\", \"sofa\"\\] then the text \"the cat sat on the mat\" would be represented by the BoW vector \\[2, 1, 0, 1, 1, 1, 0\\]\n",
        "Simply put, each text is represented by the by stuffing all of its words into a bag, without care for their order.\n",
        "While getting rid of the order of words might seem distastrous (\"I do like candy\" and \"do I like candy\" doesn't mean the same thing), this simple approach can still be enough to tackle many problems.\n",
        "<img src=\"attachment:image.png\" width=\"600\">\n",
        "\n",
        "**Exercise 1.2**: Make a BoW embedder that takes the tensor (index vector) representation of a text, the length of the vocabulary, and returns a Bag of Words representation. How sparse are the vectors (how many zero/nonzero elements are there)? Why is this the case?"
      ]
    },
    {
      "cell_type": "code",
      "execution_count": null,
      "metadata": {
        "id": "qDkavW0Rg1V4"
      },
      "outputs": [],
      "source": [
        "def bow_embedder(tensor, vocab_length):\n",
        "    '''\n",
        "    Takes a tensor and a vocabulary and returns the BoW embedding of that tensor\n",
        "    Args:\n",
        "        tensor (torch.Tensor): A tensor of words represented by their index in the vocabulary\n",
        "        vocab_lenght (int): The number of entries in the vocabulary\n",
        "    Returns (torch.Tensor): An tensor containing the BoW embedding of the input tensor\n",
        "    '''\n",
        "\n",
        "    input = tensor.tolist()\n",
        "\n",
        "    output = []\n",
        "    for i in range(vocab_length):\n",
        "      output.append(0)\n",
        "\n",
        "    for word in input:\n",
        "      output[int(word)] += 1\n",
        "\n",
        "    return torch.Tensor(output)"
      ]
    },
    {
      "cell_type": "markdown",
      "metadata": {
        "id": "O7SMG84Ug1V5"
      },
      "source": [
        "**Check your solution**: The code cell below will try to embed a few sentences using your embedder and will check that the embeddings seem correct."
      ]
    },
    {
      "cell_type": "code",
      "execution_count": null,
      "metadata": {
        "colab": {
          "base_uri": "https://localhost:8080/"
        },
        "id": "UU07ddmGg1V5",
        "outputId": "85b8c523-56d2-4bbc-eb18-9ff2ca321d9d"
      },
      "outputs": [
        {
          "output_type": "stream",
          "name": "stdout",
          "text": [
            "The bow_embedder seems to be properly implemented!\n"
          ]
        }
      ],
      "source": [
        "vocab_length = len(vocab)\n",
        "\n",
        "sentence_1 = 'the cat dances well for a little while'\n",
        "sentence_2 = 'for a while the little cat dances well'\n",
        "sentence_3 = 'the dog sits for a while'\n",
        "sentence_4 = 'the cat and the dog'\n",
        "\n",
        "sentence_1_indexed = text2tensor(sentence_1)\n",
        "sentence_2_indexed = text2tensor(sentence_2)\n",
        "sentence_3_indexed = text2tensor(sentence_3)\n",
        "sentence_4_indexed = text2tensor(sentence_4)\n",
        "\n",
        "sentence_1_bow = bow_embedder(sentence_1_indexed, vocab_length)\n",
        "sentence_2_bow = bow_embedder(sentence_2_indexed, vocab_length)\n",
        "sentence_3_bow = bow_embedder(sentence_3_indexed, vocab_length)\n",
        "sentence_4_bow = bow_embedder(sentence_4_indexed, vocab_length)\n",
        "\n",
        "# Assert statements are mainly used to test code\n",
        "# You give them a statement that should be True and they throw an error if it doesn't\n",
        "assert isinstance(sentence_1_bow, torch.Tensor), 'The BoW embedding should be a tensor'\n",
        "assert len(sentence_1_bow) == vocab_length, 'The length of the BoW embedding should be the same as the vocabulary'\n",
        "assert torch.all(sentence_1_bow == sentence_2_bow), 'Texts with the exact same words should have the same BoW embedding'\n",
        "assert torch.any(sentence_1_bow != sentence_3_bow), 'Texts with different words should have different BoW embeddings'\n",
        "assert sum(sentence_1_bow) == len(sentence_1_indexed), 'The sum of the BoW embedding should be the number of words in the text'\n",
        "assert max(sentence_4_bow) == 2, 'A BoW embeddings should count the number of occurances of each word'\n",
        "\n",
        "print('The bow_embedder seems to be properly implemented!')"
      ]
    },
    {
      "cell_type": "markdown",
      "metadata": {
        "id": "MPD3MXg4g1V6"
      },
      "source": [
        "#### Visualizing BoW\n",
        "\n",
        "Before we use our embedder to train an actual neural network on the AG News dataset, let's see what it looks like using our smaller \"cat on the mat\"-dataset."
      ]
    },
    {
      "cell_type": "code",
      "execution_count": null,
      "metadata": {
        "colab": {
          "base_uri": "https://localhost:8080/"
        },
        "id": "77V7Xgqrg1V6",
        "outputId": "a1bdd308-3faf-4dfd-8d80-07d2d6186045"
      },
      "outputs": [
        {
          "output_type": "stream",
          "name": "stdout",
          "text": [
            "The sentence \n",
            "\"the cat stood on the mat\"\n",
            "was embedded with the BoW representation \n",
            "tensor([2., 1., 0., 1., 1., 0., 0., 0., 1., 0., 0., 0., 0., 0., 0., 0., 0., 0.])\n",
            "\n"
          ]
        }
      ],
      "source": [
        "## Let's take a sentence and create the BoW representation for it\n",
        "animal_vocab = SimpleVocabulary(animal_corpus) # Create vocabulary\n",
        "test_sequence = 'the cat stood on the mat' # Create the sentence\n",
        "tokenized_sequence = simple_tokenizer(test_sequence) # Tokenize the sentence\n",
        "indexed_sequence = torch.Tensor(index_sequence(tokenized_sequence, animal_vocab)) #Index the sentence and turn it into a tensor\n",
        "bow_sequence = bow_embedder(indexed_sequence, len(animal_vocab)) # Create the BoW embedding of the sentence\n",
        "\n",
        "print(f'The sentence \\n\"{test_sequence}\"\\nwas embedded with the BoW representation \\n{bow_sequence}\\n')"
      ]
    },
    {
      "cell_type": "markdown",
      "metadata": {
        "id": "suS3fl9Vg1V6"
      },
      "source": [
        "### Training a news text classifier\n",
        "\n",
        "So now that we have a way to embed our sentences, let's use that to train a classifier on the AG News dataset.\n",
        "\n",
        "**Exercise 1.3**: Create a neural network and the train and test loops, and get at least 80% accuracy on the test set. \n",
        "\n"
      ]
    },
    {
      "cell_type": "code",
      "execution_count": null,
      "metadata": {
        "id": "COD5q5jSg1V6"
      },
      "outputs": [],
      "source": [
        "# We create our own dataset to load the BoW embedded texts\n",
        "class BoWDataset(torch.utils.data.Dataset):\n",
        "    def __init__(self, dataset, embedder):\n",
        "        self.dataset = dataset\n",
        "        self.embedder = embedder\n",
        "        \n",
        "    def __getitem__(self, index):\n",
        "        return self.dataset[index][0], self.embedder(self.dataset[index][1], len(vocab))\n",
        "  \n",
        "    def __len__(self):\n",
        "        return len(self.dataset)"
      ]
    },
    {
      "cell_type": "code",
      "execution_count": null,
      "metadata": {
        "id": "S8FAuoWBg1V7",
        "colab": {
          "base_uri": "https://localhost:8080/"
        },
        "outputId": "3b7f217b-8ee5-4ec8-9696-710b29de42ba"
      },
      "outputs": [
        {
          "output_type": "stream",
          "name": "stdout",
          "text": [
            "<__main__.BoWDataset object at 0x7f64c7d87890>\n",
            "<torch.utils.data.dataloader.DataLoader object at 0x7f64c7d87410>\n",
            "Epoch 1 [120/120] - Loss: 0.1894155591726303"
          ]
        }
      ],
      "source": [
        "bow_train_data = BoWDataset(ag_train, bow_embedder)\n",
        "bow_test_data = BoWDataset(ag_test, bow_embedder)\n",
        "bow_trainloader = DataLoader(bow_train_data, batch_size=1000, shuffle=True)\n",
        "bow_testloader = DataLoader(bow_test_data, batch_size=1000, shuffle=False)\n",
        "\n",
        "print(bow_test_data)\n",
        "print(bow_testloader)\n",
        "\n",
        "## CREATE A NEURAL NETWORK TO TRAIN\n",
        "# HINT: We want our input to be the size of our BoW embedding and our output to be the different possible classes\n",
        "network = nn.Sequential(\n",
        "    nn.Linear(95812, 100),\n",
        "    nn.ReLU(),\n",
        "    nn.Linear(100, 4)\n",
        ")\n",
        "\n",
        "# Use for instance Adam\n",
        "optimizer = optim.Adam(network.parameters(), lr=0.01)\n",
        "\n",
        "# What loss function works well when we have different classes?\n",
        "loss_function = nn.CrossEntropyLoss()\n",
        "\n",
        "epochs = 1 # The dataset is large so one epoch should do for our purpose (and anything more would take forever)\n",
        "\n",
        "for epoch in range(epochs):\n",
        "    # For each batch of data (since the dataset is too large to run all data through the network at once)\n",
        "    for batch_nr, (labels, data) in enumerate(bow_trainloader):\n",
        "\n",
        "        # Predict for each BoW represented text in the batch what class they belong to\n",
        "        prediction = network(data)\n",
        "        \n",
        "        # Calculate the loss of the prediction by comparing to the expected output\n",
        "        loss = loss_function(prediction, labels)\n",
        "        \n",
        "        # Backpropagate the loss through the network to find the gradients of all parameters\n",
        "        loss.backward()\n",
        "        \n",
        "        # Update the parameters along their gradients\n",
        "        optimizer.step()\n",
        "        \n",
        "        # Clear stored gradient values\n",
        "        optimizer.zero_grad()\n",
        "        \n",
        "        #Print the epoch, batch, and loss\n",
        "        print(\n",
        "            f'\\rEpoch {epoch+1} [{batch_nr+1}/{len(bow_trainloader)}] - Loss: {loss}',\n",
        "            end=''\n",
        "        )\n"
      ]
    },
    {
      "cell_type": "code",
      "execution_count": null,
      "metadata": {
        "id": "T3RnEF_Bg1V7"
      },
      "outputs": [],
      "source": [
        "#print(labels)"
      ]
    },
    {
      "cell_type": "markdown",
      "metadata": {
        "id": "EOo4I9shg1V7"
      },
      "source": [
        "We should analyse the performance of our network besides the loss. Let's calculate the accuracy and the confusion matrix.\n",
        "\n",
        "**Exercise 1.4**: Calculate accuracy and the confusion matrix using predictions from the test set. Feel free to use the code for confusion matrix computation and visualisation provided below.\n",
        "\n"
      ]
    },
    {
      "cell_type": "code",
      "execution_count": null,
      "metadata": {
        "colab": {
          "base_uri": "https://localhost:8080/"
        },
        "id": "yZe6z340g1V7",
        "outputId": "d71f1d49-d79a-478c-c2f4-1495e539f807"
      },
      "outputs": [
        {
          "output_type": "stream",
          "name": "stdout",
          "text": [
            "Epoch 1 [8/120] - Loss: 1.2474445104599The accuracy of the network is 17.1%.\n"
          ]
        }
      ],
      "source": [
        "\n",
        "with torch.no_grad():\n",
        "    classes = [0, 1, 2, 3]\n",
        "    correct = 0\n",
        "    total = 0\n",
        "    y_pred = []\n",
        "    y_true = []\n",
        "    # For each batch of testing data (since the dataset is too large to run all data through the network at once)\n",
        "    # Calculate the accuracy\n",
        "\n",
        "    correct = 0\n",
        "    total = 0\n",
        "    for batch_nr, (labels, data) in enumerate(bow_testloader):\n",
        "        total += len(data)\n",
        "\n",
        "        prediction = network(data)\n",
        "        label = labels.detach().numpy()\n",
        "        predicted = prediction.detach().numpy()\n",
        "\n",
        "        count = 0\n",
        "        for x in predicted: \n",
        "          y_true.append(label[count])\n",
        "          y_pred.append(predicted[count].argmax())\n",
        "          \n",
        "          if label[count].argmax() == predicted[count].argmax():\n",
        "            correct += 1\n",
        "          count += 1\n",
        "        \n",
        "        #Print the epoch, batch, and loss\n",
        "        print(\n",
        "            f'\\rEpoch {epoch+1} [{batch_nr+1}/{len(bow_trainloader)}] - Loss: {loss}',\n",
        "            end=''\n",
        "        )\n",
        "            \n",
        "    print(f'The accuracy of the network is {str(100*correct/total)[:4]}%.')\n"
      ]
    },
    {
      "cell_type": "code",
      "execution_count": null,
      "metadata": {
        "id": "kQPgAsr6g1V8"
      },
      "outputs": [],
      "source": [
        "def plot_confusion_matrix(cm, classes,\n",
        "                          normalize=False,\n",
        "                          title='Confusion matrix',\n",
        "                          cmap=plt.cm.Blues):\n",
        "    \"\"\"\n",
        "    This function prints and plots the confusion matrix.\n",
        "    Normalization can be applied by setting `normalize=True`.\n",
        "    \"\"\"\n",
        "    import itertools\n",
        "    if normalize:\n",
        "        cm = cm.astype('float') / cm.sum(axis=1)[:, np.newaxis]\n",
        "        print(\"Normalized confusion matrix\")\n",
        "    else:\n",
        "        print('Confusion matrix, without normalization')\n",
        "\n",
        "    print(cm)\n",
        "\n",
        "    plt.imshow(cm, interpolation='nearest', cmap=cmap)\n",
        "    plt.title(title)\n",
        "    plt.colorbar()\n",
        "    tick_marks = numpy.arange(len(classes))\n",
        "    plt.xticks(tick_marks, classes, rotation=45)\n",
        "    plt.yticks(tick_marks, classes)\n",
        "\n",
        "    fmt = '.2f' if normalize else 'd'\n",
        "    thresh = cm.max() / 2.\n",
        "    for i, j in itertools.product(range(cm.shape[0]), range(cm.shape[1])):\n",
        "        plt.text(j, i, format(cm[i, j], fmt),\n",
        "                 horizontalalignment=\"center\",\n",
        "                 color=\"white\" if cm[i, j] > thresh else \"black\")\n",
        "\n",
        "    plt.ylabel('True label')\n",
        "    plt.xlabel('Predicted label')\n",
        "    plt.tight_layout()"
      ]
    },
    {
      "cell_type": "code",
      "execution_count": null,
      "metadata": {
        "colab": {
          "base_uri": "https://localhost:8080/",
          "height": 384
        },
        "id": "MB3fKJnKg1V8",
        "outputId": "7821ac81-7b6d-4dd6-f6f4-e0091fbd71f1"
      },
      "outputs": [
        {
          "output_type": "stream",
          "name": "stdout",
          "text": [
            "Confusion matrix, without normalization\n",
            "[[1245   69  157  429]\n",
            " [  12 1503   74  311]\n",
            " [  27   17 1300  556]\n",
            " [  16    8  103 1773]]\n"
          ]
        },
        {
          "output_type": "display_data",
          "data": {
            "image/png": "[encoded data removed]",
            "text/plain": [
              "<Figure size 432x288 with 2 Axes>"
            ]
          },
          "metadata": {
            "needs_background": "light"
          }
        }
      ],
      "source": [
        "cnf_matrix = confusion_matrix(y_true, y_pred,labels=[0, 1, 2, 3])\n",
        "numpy.set_printoptions(precision=2)\n",
        "\n",
        "# Plot non-normalized confusion matrix\n",
        "plt.figure()\n",
        "plot_confusion_matrix(cnf_matrix, classes=['World', 'Sports', 'Business', 'Sci/Tec'],\n",
        "                      title='Confusion matrix, without normalization')"
      ]
    },
    {
      "cell_type": "code",
      "execution_count": null,
      "metadata": {
        "id": "fC-l-xc_g1V8",
        "colab": {
          "base_uri": "https://localhost:8080/"
        },
        "outputId": "312d6987-fc05-4c95-96ae-df0a6d6564ff"
      },
      "outputs": [
        {
          "output_type": "stream",
          "name": "stdout",
          "text": [
            "The network predicted that \n",
            "\"wall st . bears claw back into the black ( reuters ) reuters - short-sellers , wall street ' s dwindling\\band of ultra-cynics , are seeing green again .\"\n",
            " should be in the category Business\n"
          ]
        }
      ],
      "source": [
        "# Let's print a sentence and predict it's category\n",
        "sentence_index = 0\n",
        "prediction = torch.argmax(network(torch.unsqueeze(bow_embedder(ag_train[sentence_index][1], len(vocab)), dim=0))).item()\n",
        "print(\n",
        "    f'The network predicted that \\n\"{tensor2text(ag_train[sentence_index][1])}\"\\n should be in the category {ag_labels[prediction]}'\n",
        ")"
      ]
    },
    {
      "cell_type": "markdown",
      "metadata": {
        "id": "KbgZEkzng1V8"
      },
      "source": [
        "## 2. Word2Vec\n",
        "\n",
        "As you might already have thought BoW embeddings have a few problems.\n",
        "Firstly, it diregards the order of words which, as previously stated, can be quite important.\n",
        "Secondly, the size of the embedding grows larger with the size of the vocabulary.\n",
        "While the second issue can be solved by limiting the vocabulary to the most common/important words, this remains a fairly large vector with very few non-zero elements (a sparse vector).\n",
        "\n",
        "One commonly used alternative that fixes both of these issues is the so-called Word2Vec embeddings.\n",
        "Word2Vec can be summarized as using machine learning to learn non-sparse (most, if not all, entries are non-zero) word embeddings with fewer dimensions (typically between 100 and 1000). A text is then represented as a matrix where the first row (or column depending on how you use it) represents the first word and so on.\n",
        "<img src=\"attachment:image.png\" width=\"700\">\n",
        "\n",
        "So how do you learn an embedding?\n",
        "Again, there are many ways to do this, but the most common Word2Vec methods use the idea that a word is defined by the company it keeps.\n",
        "That is, an embedding of a word is good if you can either use it to predict which the surrounding words are or if it can be predicted using the surrounding words.\n",
        "So you either train a model to predict the surrounding words from the central word, or train it to predict a word from the surrounding ones.\n",
        "These two methods are called Skip-Gram and Continuous Bag of Words (CBoW) respectively and are illustrated by the images below.\n",
        "\n",
        "<h1><center>Skip-gram</center></h1>| <h2><center>CBoW</center></h2>\n",
        "- | -\n",
        "<img src=\"attachment:image-3.png\" width=\"300\"> | <img src=\"attachment:image-2.png\" width=\"300\">\n",
        "\n",
        "The logic behind these methods can be better understood by imagining synonyms.\n",
        "If we're creating embeddings (codes) to represent different words, it makes sense that similar words should have similar embeddings.\n",
        "Since synonymous words would have many similar surrounding words in many sentences, telling the difference between the two would be difficult, and thus giving them similar embeddings would lead to a lesser error.\n",
        "However, words that have slightly different meaning cannot have the same embeddings, because that would make predicting words from that embedding more difficult.\n",
        "\n",
        "While training useful such embeddings for every single words takes huge datasets of texts, this only has to be done once and then those embeddings can be used for many different applications.\n",
        "Due to this time consuming training we will only train a very small sample of word embeddings to learn how it's done and better understand them.\n",
        "Afterwards we will use pretrained embeddings to do some actual prediction.\n",
        "\n",
        "With this in mind we will use the \"cat on the mat\" dataset to train our embeddings.\n",
        "Our goal is to create embeddings where each group of words (animals, furniture, actions, and other) are given distinct groups in the encoding space."
      ]
    },
    {
      "cell_type": "markdown",
      "metadata": {
        "id": "q-ufSwkPg1V9"
      },
      "source": [
        "### Skip-gram embedding\n",
        "\n",
        "In Skip-gram embeddings we want to predict the surrounding words from a given one.\n",
        "Rather than for a given word predicting all the surrounding words at once, we'll create context-target pairs.\n",
        "We decide on a window size, and create a context target pair with the central word being the context and each word in the window of surrounding words will be our target. \n",
        "<img src=\"attachment:image.png\" width=\"600\">\n",
        "\n",
        "The goal of the training is to predict the target word given the context word.\n",
        "We provide the function for creating context-target pairs below, so you don't need to implement this yourself.\n",
        "\n",
        "We'll use these context-target pairs to train a neural network to predict the target word and, hopefully, during this training the hidden layer of the neural network will become the embedding of our context word.\n",
        "So in order to get the embedding after training, we simply input a word and extract the values of the hidden layer of the network"
      ]
    },
    {
      "cell_type": "code",
      "execution_count": null,
      "metadata": {
        "id": "-6n5tM3Xg1V9"
      },
      "outputs": [],
      "source": [
        "## Hyperparameters for Skip-gram Embedding\n",
        "WINDOW_SIZE = 2\n",
        "EMBEDDING_SIZE = 2"
      ]
    },
    {
      "cell_type": "code",
      "execution_count": null,
      "metadata": {
        "id": "aEeIgU0yg1V9"
      },
      "outputs": [],
      "source": [
        "# This is code for the skipgram generation (you don't need to understand it)\n",
        "def skipgrams(sequences, window_size = 2, shuffle = True):\n",
        "    couples = []\n",
        "    for sequence in sequences:\n",
        "        for i, wi in enumerate(sequence):\n",
        "    \n",
        "            window_start = max(0, i - window_size)\n",
        "            window_end = min(len(sequence), i + window_size + 1)\n",
        "            for j in range(window_start, window_end):\n",
        "                if j != i:\n",
        "                    wj = sequence[j]\n",
        "                    couples.append([wi, wj])\n",
        "\n",
        "    if shuffle:\n",
        "        seed = random.randint(0, 10e6)\n",
        "        random.shuffle(couples)\n",
        "\n",
        "    return torch.Tensor(couples)"
      ]
    },
    {
      "cell_type": "code",
      "execution_count": null,
      "metadata": {
        "colab": {
          "base_uri": "https://localhost:8080/"
        },
        "id": "Ij9IBwPog1V9",
        "outputId": "0a574233-5c5e-4b70-a96e-d074bd9f34a1"
      },
      "outputs": [
        {
          "output_type": "stream",
          "name": "stdout",
          "text": [
            "The sentence: the cat stood on the mat\n",
            "The sentence split into tokens: ['the', 'cat', 'stood', 'on', 'the', 'mat']\n",
            "The indexed sentence: [0, 1, 8, 3, 0, 4]\n",
            "All generated skip-gram pairs: tensor([[0, 1],\n",
            "        [0, 8],\n",
            "        [1, 0],\n",
            "        [1, 8],\n",
            "        [1, 3],\n",
            "        [8, 0],\n",
            "        [8, 1],\n",
            "        [8, 3],\n",
            "        [8, 0],\n",
            "        [3, 1],\n",
            "        [3, 8],\n",
            "        [3, 0],\n",
            "        [3, 4],\n",
            "        [0, 8],\n",
            "        [0, 3],\n",
            "        [0, 4],\n",
            "        [4, 3],\n",
            "        [4, 0]], dtype=torch.int32)\n",
            "The skip-gram pairs as text: [('the', 'cat'), ('the', 'stood'), ('cat', 'the'), ('cat', 'stood'), ('cat', 'on'), ('stood', 'the'), ('stood', 'cat'), ('stood', 'on'), ('stood', 'the'), ('on', 'cat'), ('on', 'stood'), ('on', 'the'), ('on', 'mat'), ('the', 'stood'), ('the', 'on'), ('the', 'mat'), ('mat', 'on'), ('mat', 'the')]\n"
          ]
        }
      ],
      "source": [
        "# We print the path from text to skip-grams so you can see the process\n",
        "\n",
        "animal_vocab = SimpleVocabulary(animal_corpus)\n",
        "test_sequence = 'the cat stood on the mat'\n",
        "print('The sentence:',test_sequence)\n",
        "tokenized_sequence = simple_tokenizer(test_sequence)\n",
        "print('The sentence split into tokens:',tokenized_sequence)\n",
        "indexed_sequence = [animal_vocab.get_index(token) for token in tokenized_sequence]\n",
        "print('The indexed sentence:', indexed_sequence)\n",
        "skipgrams_sequence = skipgrams([indexed_sequence], shuffle=False).int()\n",
        "print('All generated skip-gram pairs:', skipgrams_sequence)\n",
        "skipgrams_sequence_words = [(animal_vocab.get_token(x[0]), animal_vocab.get_token(x[1])) for x in skipgrams_sequence]\n",
        "print('The skip-gram pairs as text:', skipgrams_sequence_words)"
      ]
    },
    {
      "cell_type": "code",
      "execution_count": null,
      "metadata": {
        "colab": {
          "base_uri": "https://localhost:8080/"
        },
        "id": "okkMORKwg1V-",
        "outputId": "ba726ed0-9c90-4d9c-ef98-acf44f300099"
      },
      "outputs": [
        {
          "output_type": "stream",
          "name": "stdout",
          "text": [
            "tensor([[ 3., 14.],\n",
            "        [ 0.,  5.],\n",
            "        [ 2.,  0.],\n",
            "        ...,\n",
            "        [ 0., 12.],\n",
            "        [ 0.,  2.],\n",
            "        [ 0., 12.]])\n",
            "There are 2304 pairs of skip-grams created from the \"cat in the mat\" dataset.\n"
          ]
        }
      ],
      "source": [
        "# We create the actual skip-gram pairs for the entire \"cat on the mat\"-dataset\n",
        "\n",
        "animal_vocab = SimpleVocabulary(animal_corpus)\n",
        "indexed_text = [[animal_vocab.get_index(token) for token in simple_tokenizer(text)] for text in animal_corpus]\n",
        "pairs = skipgrams(indexed_text, WINDOW_SIZE)\n",
        "print(pairs)\n",
        "print(f'There are {len(pairs)} pairs of skip-grams created from the \"cat in the mat\" dataset.')"
      ]
    },
    {
      "cell_type": "markdown",
      "metadata": {
        "id": "sLvvJB3Vg1V-"
      },
      "source": [
        "For creating the skipgram embedding we will not use nn.Sequential as we usually do when creating neural networks.\n",
        "Instead we will create a subclass of nn.Module to create our own PyTorch module.\n",
        "This is useful when we need to create neural networks with non-linear structure, or with some quirk that cannot be implemented with existing modules.\n",
        "In short a nn.Module needs only a single function called 'forward' that takes the input and performs the forward pass of the network using differentiable functions (most torch functions and mathematical operations supports this).\n",
        "Any part of the module that needs to be initialized (like nn.Linear) needs to be so in the \\_\\_init\\_\\_ function of the network after the super().\\_\\_init\\_\\_() statement.\n",
        "In this exercise you will not need to write the \\_\\_init\\_\\_ function.\n",
        "For more information on creating networks as subclasses of nn.Module, read **[here](https://pytorch.org/tutorials/beginner/pytorch_with_examples.html#nn-module)**.\n",
        "\n",
        "**Exercise 2.1**: Create the SkipgramEmbedder class, a neural network that first reduces the one-hot embedding of one word to a smaller embedding space and then predicts the one-hot embedding of the paired word using that. These embeddings should then be such that most groups of words are separate on the embedding space (though if two groups overlaps that is fine). Think of why the groups gets embedded the way they do."
      ]
    },
    {
      "cell_type": "code",
      "execution_count": null,
      "metadata": {
        "id": "ifGCv4PSg1V-"
      },
      "outputs": [],
      "source": [
        "# An Embedding layer used for turning int into one-hot\n",
        "to_onehot = nn.Embedding.from_pretrained(torch.eye(len(animal_vocab))) \n",
        "\n",
        "class SkipgramEmbedder(nn.Module):\n",
        "    def __init__(self):\n",
        "        super().__init__()\n",
        "        self.input_layer = nn.Linear(len(animal_vocab), EMBEDDING_SIZE)\n",
        "        self.output_layer = nn.Linear(EMBEDDING_SIZE, len(animal_vocab))\n",
        "        self.softmax = nn.Softmax()\n",
        "    \n",
        "    def embed(self, context_index):       \n",
        "        # IMPLEMENT THE EMBEDDING STEP OF THE SKIP-GRAM EMBEDDER\n",
        "        context_onehot = to_onehot(context_index) # Make a one-hot representation of the index\n",
        "        embedding = self.input_layer(context_onehot) # Pass the one-hot representation throught the first layer to create an embedding\n",
        "        return embedding\n",
        "    \n",
        "    def forward(self, context_index):\n",
        "        # IMPLEMENT THE FORWARD PASS FOR PREDICTING TARGET WORD FROM THE CONTEXT WORD\n",
        "        embedding = self.embed(context_index) # Use the self.embed function\n",
        "        output = self.output_layer(embedding) # Pass the embedding through the second layer to create an output\n",
        "        prediction = self.softmax(output) # Pass the output through softmax \n",
        "        return prediction"
      ]
    },
    {
      "cell_type": "markdown",
      "metadata": {
        "id": "_yWN03Wmg1V-"
      },
      "source": [
        "#### Learing the embeddings\n",
        "Run the code below to train your embedder so it learns the embeddings\n",
        "\n",
        "**Exercise 2.2:** Implement a network that trains your embedder by predicting targets based on context.\n",
        "\n",
        "**Hint**: The code for training is very similar to exercise 1.3, but we now need to use *pairs* to extract the current contexts for prediction and targets for evaluation, and some way of keeping track of indexes. "
      ]
    },
    {
      "cell_type": "code",
      "execution_count": null,
      "metadata": {
        "colab": {
          "base_uri": "https://localhost:8080/"
        },
        "id": "P1MUzx_3g1V-",
        "outputId": "ea999906-c946-41f7-93c9-048410ba1a59"
      },
      "outputs": [
        {
          "output_type": "stream",
          "name": "stderr",
          "text": [
            "/usr/local/lib/python3.7/dist-packages/ipykernel_launcher.py:21: UserWarning: Implicit dimension choice for softmax has been deprecated. Change the call to include dim=X as an argument.\n"
          ]
        },
        {
          "output_type": "stream",
          "name": "stdout",
          "text": [
            "Epoch 1000 [38/0.026041666666666668] - Loss: 2.717954158782959"
          ]
        }
      ],
      "source": [
        "import tensorflow as tf\n",
        "\n",
        "model = SkipgramEmbedder()\n",
        "optimizer = torch.optim.RMSprop(model.parameters(), lr=0.01)\n",
        "loss_function = nn.CrossEntropyLoss()\n",
        "\n",
        "#Epochs\n",
        "TOTAL_EPOCHS = 1000\n",
        "BATCH_SIZE = 60\n",
        "EMBEDDING_SIZE = 100\n",
        "# For each epoch\n",
        "\n",
        "for epoch in range(TOTAL_EPOCHS):\n",
        "    # \n",
        "    # A variable for containing the sum of all batch losses for this epoch\n",
        "    epoch_loss = 0\n",
        "    # \n",
        "    # Lower index\n",
        "    start = 0\n",
        "    # \n",
        "    # For each batch\n",
        "    for batch_nr, end in enumerate(range(BATCH_SIZE,len(pairs),BATCH_SIZE)):\n",
        "        #\n",
        "        targets = torch.Tensor(pairs[start:end, 0]).long() #prediciton of which words are close, pairs the words as input (2304 pairs in total)\n",
        "        contexts = torch.Tensor(pairs[start:end, 1]).long() #input word you have, pairs (for examle cat, mat)\n",
        "        start = end\n",
        "\n",
        "        # \n",
        "        # Predict for context word in the batch what the target word should be\n",
        "        prediction = model(contexts)\n",
        "\n",
        "        # \n",
        "        # Calculate the loss of the prediction by comparing to the actual target word\n",
        "        loss = loss_function(prediction, targets)\n",
        "\n",
        "        # \n",
        "        # Backpropogate the loss through the network to find the gradients of all parameters\n",
        "        loss.backward()\n",
        "\n",
        "        # \n",
        "        # Update the parameters along their gradients\n",
        "        optimizer.step()\n",
        "\n",
        "        # \n",
        "        # Clear stored gradient values\n",
        "        optimizer.zero_grad()\n",
        "\n",
        "        # \n",
        "        # Add the loss to the total epoch loss (item() turns a PyTorch scalar into a normal Python datatype)\n",
        "        epoch_loss += loss.item()\n",
        "\n",
        "        # \n",
        "        #Print the epoch, batch, and loss\n",
        "        print(\n",
        "            f'\\rEpoch {epoch+1} [{batch_nr+1}/{len(targets)/len(pairs)}] - Loss: {loss}',\n",
        "            end=''\n",
        "        )"
      ]
    },
    {
      "cell_type": "markdown",
      "metadata": {
        "id": "urx-Zj1wg1V_"
      },
      "source": [
        "#### Visualizing the embeddings\n",
        "You don't need to understand the code below, instead we will explain it here.\n",
        "Below we run each individual word in the \"cat on the mat\" dataset throgh the SkimgramEmbedder in order to get its embedding. Then we use [Prinipal Component Analysis (PCA)](https://en.wikipedia.org/wiki/Principal_component_analysis) in order to reduce the embedding dimensionality to 2 (if you have changed the dimensionality to anything larger) and then we print that as a graph where each group of words have been given the same color in order to display how they are grouped. Ideally the training should have converged towards clear groupings of similar words. If it hasn't try running the training again (it shouldn't take that many tries to get an embedding that clearly separates most groups of words). If you cannot get an embedding that separates all groups, don't worry about it so long as most groups are separated."
      ]
    },
    {
      "cell_type": "code",
      "execution_count": null,
      "metadata": {
        "colab": {
          "base_uri": "https://localhost:8080/",
          "height": 937
        },
        "id": "pv1H2RgPg1V_",
        "outputId": "10bdcc0e-a37d-46c3-e676-19651fa02e0f"
      },
      "outputs": [
        {
          "output_type": "stream",
          "name": "stdout",
          "text": [
            "The embeddings if all words in the vocabulary\n",
            "[[-9.29868984e+00  1.06837097e+02]\n",
            " [ 2.55135119e-01 -5.67294359e-02]\n",
            " [ 1.01658602e+01 -7.48099823e+01]\n",
            " [ 1.19643784e+01 -1.12205620e+02]\n",
            " [ 2.22245902e-01 -6.22366369e-02]\n",
            " [ 2.19864547e-01 -2.03833103e-01]\n",
            " [ 1.70307577e-01  1.69254959e-01]\n",
            " [ 2.62940139e-01 -4.16557491e-02]\n",
            " [ 6.41639280e+00 -9.01344681e+01]\n",
            " [ 7.38794756e+00 -7.24705582e+01]\n",
            " [ 7.28710270e+00 -7.60081558e+01]\n",
            " [ 5.99091947e-02  2.16423154e-01]\n",
            " [ 2.00247109e-01  3.19709480e-01]\n",
            " [ 1.10479206e-01  6.31343126e-02]\n",
            " [ 2.20732436e-01 -4.90954727e-01]\n",
            " [ 1.89752072e-01 -3.06204259e-01]\n",
            " [ 1.41351730e-01  3.77106667e-02]\n",
            " [ 2.20704928e-01 -1.51728451e-01]]\n"
          ]
        },
        {
          "output_type": "display_data",
          "data": {
            "image/png": "[encoded data removed]",
            "text/plain": [
              "<Figure size 1440x720 with 1 Axes>"
            ]
          },
          "metadata": {
            "needs_background": "light"
          }
        }
      ],
      "source": [
        "%matplotlib inline\n",
        "from sklearn.decomposition import PCA\n",
        "from matplotlib import pyplot as plt\n",
        "\n",
        "\n",
        "category_colors = {'animals' : 'green', \n",
        "                   'actions' : 'blue',\n",
        "                   'furniture' : 'yellow'}\n",
        "\n",
        "colors = []\n",
        "for i in range(vocabulary_size):\n",
        "    colors.append('red')\n",
        "    \n",
        "for word in animal_vocab.index2token:\n",
        "    index = animal_vocab.get_index(word)\n",
        "    if word in animals:\n",
        "        colors[index] = category_colors['animals']\n",
        "    elif word in actions:\n",
        "        colors[index] = category_colors['actions']\n",
        "    elif word in furniture:\n",
        "        colors[index] = category_colors['furniture']\n",
        "\n",
        "# Plots embeddings using PCA (you don't need to understand it)\n",
        "def plot_embeddings_after_pca(vectors):  \n",
        "        \"\"\"\n",
        "        Perform PCA and plot the resulting 2 components on X and Y axis\n",
        "        Args:\n",
        "          embedding_weights - the set of vectors to \n",
        "        \"\"\"\n",
        "        pca = PCA(n_components=2)\n",
        "        vectors_pca = pca.fit_transform(vectors)\n",
        "        plt.figure(figsize=(20,10))\n",
        "        \n",
        "        # We do not draw the first element, which is the 'Out-of-Vocabulary' token\n",
        "        plt.scatter(vectors_pca[:,0], vectors_pca[:,1], c=colors, s=100, alpha=0.3);\n",
        "        plt.title('Embeddings after PCA')\n",
        "        legend_elements = [\n",
        "                    plt.Line2D([0], [0], marker='o', color=category_colors['animals'], label='Animals'),\n",
        "                    plt.Line2D([0], [0], marker='o', color=category_colors['actions'], label='Actions'),\n",
        "                    plt.Line2D([0], [0], marker='o', color=category_colors['furniture'], label='Furniture'),\n",
        "                    plt.Line2D([0], [0], marker='o', color='red', label='Other'),\n",
        "                  ]\n",
        "\n",
        "        # Create the figure\n",
        "        plt.legend(handles=legend_elements)\n",
        "\n",
        "# Extracting the embeddings for every word in the vocabulary, detaching them from PyTorch, and turning them into numpy\n",
        "numpy_word_vectors = model.embed(torch.Tensor(range(vocabulary_size)).long()).detach().numpy()\n",
        "\n",
        "print('The embeddings if all words in the vocabulary')\n",
        "print(numpy_word_vectors)\n",
        "\n",
        "# Display the most significant axes of the word vectors using PCA\n",
        "plot_embeddings_after_pca(numpy_word_vectors)"
      ]
    },
    {
      "cell_type": "markdown",
      "metadata": {
        "id": "S5YRHHdwg1V_"
      },
      "source": [
        "## 3. Using pretrained embeddings\n",
        "\n",
        "A problem with training word embeddings is that you would need to have a dataset containing all words you want to embed in many different sentences.\n",
        "This adds up to needing really large datasets (the entirety of Wikipedia for example) to create good embeddings.\n",
        "This is unfeasible for most people as it requires huge amounts of computational power and the ability to download and store huge datasets.\n",
        "Not to mention that if everyone did this it would waste a lot of energy compared to reusing pre-trained networks.\n",
        "Consequently, pre-trained embeddings created by researchers with access to large computational resources have been made publicly available.\n",
        "Thus, this is an efficient way to get access to good word embeddings while saving time and energy.\n",
        "\n",
        "We will use one such pretrained embedding network to train a network to make predictions on the AG News dataset.\n",
        "\n",
        "![bild.png](attachment:bild.png)\n"
      ]
    },
    {
      "cell_type": "code",
      "execution_count": null,
      "metadata": {
        "id": "JIBncpBTg1V_",
        "colab": {
          "base_uri": "https://localhost:8080/"
        },
        "outputId": "aa301511-091b-4418-b2b2-79ab0a164173"
      },
      "outputs": [
        {
          "output_type": "stream",
          "name": "stdout",
          "text": [
            "[==================================================] 100.0% 1662.8/1662.8MB downloaded\n"
          ]
        }
      ],
      "source": [
        "from gensim.models import KeyedVectors\n",
        "\n",
        "# Load embeddings from the pre-trained file\n",
        "import gensim.downloader as api\n",
        "wv = api.load('word2vec-google-news-300')"
      ]
    },
    {
      "cell_type": "code",
      "execution_count": null,
      "metadata": {
        "id": "qb2mQgAog1WA",
        "colab": {
          "base_uri": "https://localhost:8080/"
        },
        "outputId": "ebac9151-b3e0-4323-b06d-09939f674651"
      },
      "outputs": [
        {
          "output_type": "stream",
          "name": "stdout",
          "text": [
            "[ 5.34057617e-04  3.11279297e-02  5.03540039e-03 -9.17968750e-02\n",
            " -8.36181641e-03 -1.66015625e-01  3.93066406e-02  2.97851562e-02\n",
            "  1.69921875e-01 -2.04101562e-01  2.41210938e-01 -3.04687500e-01\n",
            " -2.24609375e-02 -3.71093750e-01 -5.61523438e-02  1.51367188e-01\n",
            " -1.21582031e-01  3.41796875e-01  3.05175781e-02 -2.94921875e-01\n",
            "  6.54296875e-02 -9.27734375e-02  1.49414062e-01  8.15429688e-02\n",
            " -6.93359375e-02  1.98242188e-01 -1.66015625e-01  2.00195312e-01\n",
            "  1.16699219e-01 -3.69140625e-01 -2.48046875e-01  1.25976562e-01\n",
            "  3.59375000e-01  1.51367188e-01 -7.76367188e-02  2.91015625e-01\n",
            " -1.74560547e-02 -1.21093750e-01 -1.00097656e-01  1.43554688e-01\n",
            "  5.92041016e-03  2.35595703e-02  3.20312500e-01  1.82617188e-01\n",
            "  9.52148438e-02  9.22851562e-02  8.30078125e-02 -1.33789062e-01\n",
            "  9.57031250e-02  1.66992188e-01  1.87988281e-02 -2.79541016e-02\n",
            " -1.03149414e-02  1.11816406e-01 -8.10546875e-02  1.79687500e-01\n",
            "  8.34960938e-02 -5.90820312e-02  1.70898438e-01  1.68457031e-02\n",
            "  8.74023438e-02  9.03320312e-02  9.22851562e-02 -9.76562500e-02\n",
            " -2.39257812e-02 -2.07031250e-01 -1.21459961e-02  1.44531250e-01\n",
            "  6.20117188e-02 -1.44042969e-02  2.81250000e-01  6.83593750e-02\n",
            " -2.12890625e-01  4.68750000e-02 -1.00097656e-01 -1.35742188e-01\n",
            "  7.47070312e-02 -2.69531250e-01  7.56835938e-02 -5.51757812e-02\n",
            " -2.01416016e-02 -3.80859375e-01  1.67968750e-01 -3.90625000e-01\n",
            "  5.54199219e-02  2.23632812e-01 -6.28662109e-03  7.76367188e-02\n",
            "  2.03125000e-01 -1.04980469e-01 -3.12500000e-02  3.53515625e-01\n",
            "  1.54296875e-01 -1.25976562e-01 -2.24609375e-02 -3.80859375e-01\n",
            "  3.12500000e-01  2.12890625e-01  1.97265625e-01 -4.49218750e-01\n",
            " -9.22851562e-02 -2.94921875e-01  2.21679688e-01 -2.58789062e-02\n",
            "  1.38671875e-01  7.37304688e-02 -1.10839844e-01 -3.00781250e-01\n",
            "  1.29882812e-01 -1.74804688e-01  1.37939453e-02  7.51953125e-02\n",
            "  2.98828125e-01 -7.61718750e-02  9.76562500e-02 -2.53906250e-01\n",
            " -8.69140625e-02 -9.86328125e-02 -4.49218750e-02  1.00585938e-01\n",
            " -1.68945312e-01  1.06933594e-01 -1.07910156e-01 -3.57421875e-01\n",
            " -3.58886719e-02 -3.24707031e-02  1.62109375e-01 -1.17187500e-01\n",
            " -1.49414062e-01  2.31933594e-02 -4.14062500e-01  2.85644531e-02\n",
            " -2.57812500e-01 -6.59179688e-02 -4.80957031e-02 -1.87500000e-01\n",
            "  5.10253906e-02  7.86132812e-02 -7.56835938e-02  3.20312500e-01\n",
            "  7.08007812e-02 -1.08886719e-01 -3.03955078e-02  1.53320312e-01\n",
            "  8.93554688e-02  8.83789062e-02 -2.01416016e-02 -1.66992188e-01\n",
            " -8.88671875e-02  7.20214844e-03  4.88281250e-01  7.66601562e-02\n",
            "  6.68945312e-02 -4.34570312e-02 -2.41210938e-01 -9.71679688e-02\n",
            "  7.47070312e-02 -3.24218750e-01 -3.14453125e-01 -8.74023438e-02\n",
            " -8.20312500e-02  2.33154297e-02  2.55859375e-01 -1.06445312e-01\n",
            "  1.13769531e-01 -4.71191406e-02 -4.83398438e-02 -4.31640625e-01\n",
            "  3.41796875e-02  1.66015625e-02 -6.00585938e-02 -1.82617188e-01\n",
            " -3.56445312e-02 -8.59375000e-02 -5.88378906e-02  1.19628906e-01\n",
            "  1.33789062e-01 -3.73535156e-02 -1.79687500e-01  8.59375000e-02\n",
            " -2.63671875e-01 -3.36914062e-02 -2.22167969e-02  9.52148438e-02\n",
            "  1.05468750e-01 -1.63085938e-01  2.65625000e-01  1.77734375e-01\n",
            " -2.37304688e-01  1.58203125e-01 -4.00390625e-02 -5.71289062e-02\n",
            "  1.51367188e-01  1.52343750e-01  2.71484375e-01 -2.13867188e-01\n",
            "  1.81884766e-02 -4.98046875e-02 -2.65625000e-01 -1.05468750e-01\n",
            "  4.98046875e-02 -5.54687500e-01 -2.91015625e-01 -9.61914062e-02\n",
            " -9.52148438e-02 -4.17480469e-02 -2.57812500e-01 -6.25000000e-02\n",
            "  9.37500000e-02 -2.09960938e-02 -2.48046875e-01  4.51660156e-02\n",
            "  1.56250000e-01 -1.74804688e-01 -1.37695312e-01  1.54296875e-01\n",
            " -3.94531250e-01 -1.66992188e-01  2.07031250e-01  1.55273438e-01\n",
            "  2.08984375e-01  2.69531250e-01  3.26171875e-01 -1.24023438e-01\n",
            "  1.64794922e-02 -5.05371094e-02  3.10546875e-01 -3.24707031e-02\n",
            "  3.41796875e-01 -9.96093750e-02  4.15039062e-02 -3.06640625e-01\n",
            "  4.83398438e-02  2.08007812e-01 -4.10156250e-01 -7.22656250e-02\n",
            "  1.09863281e-01 -2.67578125e-01  2.28515625e-01 -1.02050781e-01\n",
            "  1.83593750e-01 -2.44140625e-01  2.21679688e-01  2.01171875e-01\n",
            "  3.10546875e-01 -2.14843750e-01 -3.41796875e-02  2.57812500e-01\n",
            "  2.53906250e-02  7.66601562e-02 -1.18164062e-01  2.41210938e-01\n",
            " -9.61914062e-02 -1.16699219e-01 -8.34960938e-02  2.37304688e-01\n",
            " -1.10839844e-01  6.73828125e-02 -4.35546875e-01 -3.32641602e-03\n",
            " -1.27929688e-01 -6.53076172e-03  2.72216797e-02  2.83203125e-01\n",
            " -4.19921875e-02  8.00781250e-02  1.12792969e-01 -2.73437500e-01\n",
            " -2.63671875e-01  2.04101562e-01 -8.54492188e-02  1.91497803e-03\n",
            " -2.04101562e-01  6.83593750e-02 -6.54296875e-02 -1.35742188e-01\n",
            " -2.57568359e-02 -3.96484375e-01 -2.94189453e-02  4.33593750e-01\n",
            "  6.03027344e-02  3.41796875e-03  1.74804688e-01  6.44531250e-02\n",
            " -3.97949219e-02 -7.32421875e-02 -1.50390625e-01  2.56347656e-02\n",
            "  2.91015625e-01  2.61718750e-01 -2.32421875e-01  1.13769531e-01\n",
            " -2.53906250e-01  1.75781250e-01  1.89453125e-01  2.65625000e-01\n",
            "  1.66015625e-01  2.85156250e-01 -1.63085938e-01  6.07910156e-02]\n"
          ]
        }
      ],
      "source": [
        "print(wv['horse'])"
      ]
    },
    {
      "cell_type": "markdown",
      "metadata": {
        "id": "2XohbsKEg1WA"
      },
      "source": [
        "Word embeddings contain mathematical representations of the underlying meaning of words. As every embedding is in the same dimensions, you can utilize linear algebra to look inside how the model thinks.\n",
        "Try playing around with a few words and methods to investigate how the model views language."
      ]
    },
    {
      "cell_type": "code",
      "execution_count": null,
      "metadata": {
        "colab": {
          "base_uri": "https://localhost:8080/"
        },
        "id": "evBa8bacg1WA",
        "outputId": "1760dd0a-739d-416c-8d98-0864840d8a1d"
      },
      "outputs": [
        {
          "output_type": "stream",
          "name": "stdout",
          "text": [
            "0.12812498\n"
          ]
        }
      ],
      "source": [
        "#king = wv.most_similar(\"king\")\n",
        "dist = wv.similarity(\"king\",\"dog\")\n",
        "#print(king)\n",
        "print(dist)"
      ]
    },
    {
      "cell_type": "markdown",
      "metadata": {
        "id": "ywolwz7Hg1WA"
      },
      "source": [
        "There is a famous example of embedding maths that goes \"king\" - \"man\" + \"woman\" = \"queen\". This example, and embedding maths in general, utilize the fact that embeddings are just vectors in a high dimenionsal vector space, and certain features of language tend to exist along certain axises and cluster together with similar words. We would thus expect king to have a presence in the \"royalty\"-axis, and in the \"man\"-axis. Removing man and adding woman should thus result in \"royalty\" + \"woman\", in other words a queen. See if you can find any other examples where semantic mathematics work, or an example where it clearly doesn't work. Do the results make sense to you?"
      ]
    },
    {
      "cell_type": "code",
      "execution_count": null,
      "metadata": {
        "id": "NXQjpFgug1WA"
      },
      "outputs": [],
      "source": [
        "print(wv.similar_by_vector(wv['king']))\n",
        "print(\"\")\n",
        "similars = wv.similar_by_vector(wv['king']-wv['man']+wv['woman']-wv['boy']+wv['girl'])\n",
        "print(similars)\n",
        "\n",
        "similars[0]"
      ]
    },
    {
      "cell_type": "markdown",
      "metadata": {
        "id": "yp8YtfnJg1WA"
      },
      "source": [
        "You might be interested in investigating the vocabulary of your model"
      ]
    },
    {
      "cell_type": "code",
      "execution_count": null,
      "metadata": {
        "id": "4Cj_JNZTg1WA"
      },
      "outputs": [],
      "source": [
        "nr_of_words = 10\n",
        "for i in range(nr_of_words):\n",
        "    word = wv.index_to_key[i]\n",
        "    index = wv.key_to_index[word]\n",
        "    print(word)"
      ]
    },
    {
      "cell_type": "markdown",
      "metadata": {
        "id": "t34TW1kmg1WB"
      },
      "source": [
        "### Training a FFNN with w2v\n",
        "\n",
        "\n",
        "We want to train a network using our pretrained embeddings. To do this, we utilize the task and code from the AGnews-prediction with BoW, but modify it to suit our w2v-embeddings.\n",
        "First we create the dataset."
      ]
    },
    {
      "cell_type": "code",
      "execution_count": null,
      "metadata": {
        "id": "mT3Yx3Txg1WB"
      },
      "outputs": [],
      "source": [
        "# We create our own dataset to load the w2v embedded texts\n",
        "class w2vDataset(torch.utils.data.Dataset):\n",
        "    def __init__(self, dataset, embedder):\n",
        "        self.dataset = dataset\n",
        "        self.embedder = embedder\n",
        "        \n",
        "    def __getitem__(self, index):\n",
        "        return self.dataset[index][0], self.embedder(self.dataset[index][1], 300)\n",
        "  \n",
        "    def __len__(self):\n",
        "        return len(self.dataset)"
      ]
    },
    {
      "cell_type": "markdown",
      "metadata": {
        "id": "aZ8P4QaTg1WB"
      },
      "source": [
        "Then we create an embedder that encodes every word using our w2v encoder (wv.get_vector(token)).\n",
        "Compared to when we used a BoW-encoder, we now face two issues: out of vocabulary (OOV) words and varying sentence length.\n",
        "\n",
        "**Exercise 3.1:** Create a w2v-embedder using our pre-trained w2v model. <br>\n",
        "**Exercise 3.1.1:** Describe three possible ways to deal with OOV-words and varying sentence length. What are the benefits and drawbacks of the methods you have described? <br>\n",
        "**Exercise 3.1.2:** Implement one of these methods for OOV and varying input length to make training of a FFNN possible (your methods do not have to be good, just compileable). <br>\n",
        "**Hint:** <br>\n",
        "for x in range(len(tokens)): <br>\n",
        "    try: <br>\n",
        "    except:"
      ]
    },
    {
      "cell_type": "markdown",
      "metadata": {
        "id": "8lPzu-HUg1WC"
      },
      "source": [
        "Then we design and train a network\n",
        "\n",
        "**Exercise 3.2:** Build a model that takes w2v-ecnodings of the AG-NEWS dataset as inputs and outputs AG-NEWS classes. The network might not converge towards good performance depending on your solutions to 3.1. Why?\n",
        "\n",
        "**Hint:** Recall the BoW-classifier that we implemented and reuse that structure. <br>\n",
        "Your performance might be really bad (25% accuracy). This is OK and will be amended below. "
      ]
    },
    {
      "cell_type": "code",
      "execution_count": null,
      "metadata": {
        "id": "oOpywB2Rg1WB"
      },
      "outputs": [],
      "source": [
        "def w2v_embedder(tensor, embedding_length):\n",
        "    '''\n",
        "    Takes a tensor and a embedding length and returns the w2v embedding of that tensor\n",
        "    Args:\n",
        "        tensor (torch.Tensor): A tensor of words represented by their index in the vocabulary\n",
        "        embedding_length (int): The length of the embedding\n",
        "    Returns (torch.Tensor): An tensor containing the w2v embedding of the input tensor\n",
        "    '''\n",
        "\n",
        "    tensor = tensor.long()\n",
        "    # Initate your embedding\n",
        "    embedding = torch.zeros(embedding_length)\n",
        "    # How do we get words from our tensor?\n",
        "    words = tensor2text(tensor)#find words based on index in tensor\n",
        "    # How do we get tokens from our words?\n",
        "    tokens = simple_tokenizer(words) #tensor of the words\n",
        "\n",
        "    # What do we loop over?\n",
        "    for x in tokens:\n",
        "      #skip not existing words\n",
        "      if x not in wv:\n",
        "        continue\n",
        "\n",
        "      embedding = embedding.add(torch.tensor(wv.get_vector(x)))\n",
        "\n",
        "      # How do we handle OOV?\n",
        "      # How do we embed our token?\n",
        "      # How do we store it?\n",
        "    return embedding\n"
      ]
    },
    {
      "cell_type": "code",
      "execution_count": null,
      "metadata": {
        "id": "4y_zyQ5pg1WC"
      },
      "outputs": [],
      "source": [
        "w2v_train_data = w2vDataset(ag_train, w2v_embedder)\n",
        "w2v_test_data = w2vDataset(ag_test, w2v_embedder)\n",
        "print(w2v_train_data)\n",
        "w2v_trainloader = DataLoader(w2v_train_data, batch_size=1000, shuffle=True)\n",
        "w2v_testloader = DataLoader(w2v_test_data, batch_size=1000, shuffle=False)\n",
        "\n",
        "embedding_length = 300\n",
        "\n",
        "#bow_embedder(tensor, vocab_length)\n",
        "\n",
        "\n",
        "\n",
        "## CREATE A NEURAL NETWORK TO TRAIN\n",
        "#We want our input to be the size of our w2v embeddings and our output to be the different possible classes\n",
        "network = nn.Sequential(\n",
        "  nn.Linear(embedding_length, 25),\n",
        "  nn.ReLU(),\n",
        "  nn.Linear(25, 4)\n",
        ")\n",
        "\n",
        "## Initialize optimizer, loss function and number of epochs\n",
        "#model = SkipgramEmbedder()\n",
        "optimizer = torch.optim.RMSprop(model.parameters(), lr=0.01)\n",
        "loss_function = nn.CrossEntropyLoss()\n",
        "epochs = 2\n",
        "\n",
        "for epoch in range(epochs):\n",
        "    # For each batch of data (since the dataset is too large to run all data through the network at once)\n",
        "    for batch_nr, (labels, data) in enumerate(w2v_trainloader):\n",
        "\n",
        "      # Predict for each BoW represented text in the batch what class they belong to\n",
        "      prediction = network(data)\n",
        "\n",
        "      # Calculate the loss of the prediction by comparing to the expected output\n",
        "      loss = loss_function(prediction, labels)\n",
        "      \n",
        "      # Backpropagate the loss through the network to find the gradients of all parameters\n",
        "      loss.backward()\n",
        "\n",
        "      # Update the parameters along their gradients\n",
        "      optimizer.step()\n",
        "      \n",
        "      # Clear stored gradient values\n",
        "      optimizer.zero_grad()\n",
        "              \n",
        "      #Print the epoch, batch, and loss\n",
        "      print(\n",
        "          f'\\rEpoch {epoch+1} [{batch_nr+1}/{len(w2v_trainloader)}] - Loss: {loss}',\n",
        "          end=''\n",
        "      )"
      ]
    },
    {
      "cell_type": "markdown",
      "metadata": {
        "id": "UX7DpxOxg1WC"
      },
      "source": [
        "**Exercise 3.3:** Let's once again calculate accuracy and the confusion matrix."
      ]
    },
    {
      "cell_type": "code",
      "execution_count": null,
      "metadata": {
        "colab": {
          "base_uri": "https://localhost:8080/"
        },
        "id": "_qenJyEXg1WC",
        "outputId": "4a5b8e9d-8606-4f89-c1c3-ac223983ae1d"
      },
      "outputs": [
        {
          "output_type": "stream",
          "name": "stdout",
          "text": [
            "The accuracy of the network is 0.0%.\n"
          ]
        }
      ],
      "source": [
        "with torch.no_grad():\n",
        "    classes = [0, 1, 2, 3]\n",
        "    correct = 0\n",
        "    total = 0\n",
        "    y_pred = []\n",
        "    y_true = []\n",
        "    # For each batch of testing data (since the dataset is too large to run all data through the network at once)\n",
        "    # Calculate the accuracy, precision and recall\n",
        "    for batch_nr, (labels, data) in enumerate(w2v_testloader):\n",
        "        ## WRITE THE TESTING CODE HERE\n",
        "      total += len(data)\n",
        "      prediction = network(data)\n",
        "      label = labels.detach().numpy()\n",
        "      predicted =  prediction.detach().numpy()\n",
        "\n",
        "      count = 0\n",
        "      for x in predicted: \n",
        "        y_true.append(label[count])\n",
        "        y_pred.append(predicted[count].argmax())\n",
        "       \n",
        "\n",
        "        if label[count].argmax() == predicted[count].argmax():\n",
        "          correct += 1\n",
        "        count += 1\n",
        "            \n",
        "    print(f'The accuracy of the network is {str(100*correct/total)[:4]}%.')"
      ]
    },
    {
      "cell_type": "code",
      "execution_count": null,
      "metadata": {
        "colab": {
          "base_uri": "https://localhost:8080/",
          "height": 384
        },
        "id": "Ei-Aznh5g1WC",
        "outputId": "195e62fd-807b-4a9e-8bd8-cb4585b5e16c"
      },
      "outputs": [
        {
          "output_type": "stream",
          "name": "stdout",
          "text": [
            "Confusion matrix, without normalization\n",
            "[[   0  133  522 1245]\n",
            " [   0  257  291 1352]\n",
            " [   0   64  928  908]\n",
            " [   0   73  533 1294]]\n"
          ]
        },
        {
          "output_type": "display_data",
          "data": {
            "image/png": "[encoded data removed]",
            "text/plain": [
              "<Figure size 432x288 with 2 Axes>"
            ]
          },
          "metadata": {
            "needs_background": "light"
          }
        }
      ],
      "source": [
        "cnf_matrix = confusion_matrix(y_true, y_pred,labels=[0, 1, 2, 3])\n",
        "numpy.set_printoptions(precision=2)\n",
        "\n",
        "# Plot non-normalized confusion matrix\n",
        "plt.figure()\n",
        "plot_confusion_matrix(cnf_matrix, classes=['World', 'Sports', 'Business', 'Sci/Tec'],\n",
        "                      title='Confusion matrix, without normalization')"
      ]
    },
    {
      "cell_type": "markdown",
      "metadata": {
        "id": "qkR3qWt_g1WD"
      },
      "source": [
        "Let us also investigate how the pretrained embeddings separate the animals, actions and furnitures from our initial corpus. You can also insert any words from the word2vec corpus (wv.vocab) here and see how they are projected in a 2D-space using PCA."
      ]
    },
    {
      "cell_type": "code",
      "execution_count": null,
      "metadata": {
        "colab": {
          "base_uri": "https://localhost:8080/",
          "height": 745
        },
        "id": "2Oi8zeFPg1WD",
        "outputId": "27fe2e8c-8469-432d-eb02-0ac4e9ae000a"
      },
      "outputs": [
        {
          "output_type": "stream",
          "name": "stdout",
          "text": [
            "The embeddings if all words in the vocabulary\n",
            "[[ 0.08  0.1   0.05 ...  0.    0.05 -0.07]\n",
            " [ 0.01  0.2  -0.29 ...  0.49 -0.28  0.06]\n",
            " [ 0.2   0.08  0.15 ... -0.04  0.17 -0.01]\n",
            " ...\n",
            " [-0.09 -0.1  -0.49 ...  0.02  0.08  0.  ]\n",
            " [ 0.    0.35 -0.32 ...  0.35 -0.1   0.23]\n",
            " [-0.06  0.14 -0.34 ...  0.15 -0.01  0.17]]\n"
          ]
        },
        {
          "output_type": "display_data",
          "data": {
            "image/png": "[encoded data removed]",
            "text/plain": [
              "<Figure size 1440x720 with 1 Axes>"
            ]
          },
          "metadata": {
            "needs_background": "light"
          }
        }
      ],
      "source": [
        "#%matplotlib inline\n",
        "from sklearn.decomposition import PCA\n",
        "from matplotlib import pyplot as plt\n",
        "\n",
        "numpy_word_vectors = numpy.zeros([18,300])\n",
        "\n",
        "category_colors = {'animals' : 'green', \n",
        "                   'actions' : 'blue',\n",
        "                   'furniture' : 'yellow'}\n",
        "\n",
        "colors = []\n",
        "for i in range(vocabulary_size):\n",
        "    colors.append('red')\n",
        "    \n",
        "for word in animal_vocab.index2token:\n",
        "    index = animal_vocab.get_index(word)\n",
        "    numpy_word_vectors[index,:] = wv[word]\n",
        "    if word in animals:\n",
        "        colors[index] = category_colors['animals']\n",
        "    elif word in actions:\n",
        "        colors[index] = category_colors['actions']\n",
        "    elif word in furniture:\n",
        "        colors[index] = category_colors['furniture']\n",
        "\n",
        "# Plots embeddings using PCA (you don't need to understand it)\n",
        "def plot_embeddings_after_pca(vectors):  \n",
        "        \"\"\"\n",
        "        Perform PCA and plot the resulting 2 components on X and Y axis\n",
        "        Args:\n",
        "          embedding_weights - the set of vectors to \n",
        "        \"\"\"\n",
        "        pca = PCA(n_components=2)\n",
        "        vectors_pca = pca.fit_transform(vectors)\n",
        "        plt.figure(figsize=(20,10))\n",
        "        \n",
        "        # We do not draw the first element, which is the 'Out-of-Vocabulary' token\n",
        "        plt.scatter(vectors_pca[:,0], vectors_pca[:,1], c=colors, s=100, alpha=0.3);\n",
        "        plt.title('Embeddings after PCA')\n",
        "        legend_elements = [\n",
        "                    plt.Line2D([0], [0], marker='o', color=category_colors['animals'], label='Animals'),\n",
        "                    plt.Line2D([0], [0], marker='o', color=category_colors['actions'], label='Actions'),\n",
        "                    plt.Line2D([0], [0], marker='o', color=category_colors['furniture'], label='Furniture'),\n",
        "                    plt.Line2D([0], [0], marker='o', color='red', label='Other'),\n",
        "                  ]\n",
        "\n",
        "        # Create the figure\n",
        "        plt.legend(handles=legend_elements);\n",
        "\n",
        "# Extracting the embeddings for every word in the vocabulary, detaching them from PyTorch, and turning them into numpy\n",
        "\n",
        "\n",
        "print('The embeddings if all words in the vocabulary')\n",
        "print(numpy_word_vectors)\n",
        "\n",
        "# Display the most significant axes of the word vectors using PCA\n",
        "plot_embeddings_after_pca(numpy_word_vectors)"
      ]
    },
    {
      "cell_type": "markdown",
      "metadata": {
        "id": "DG3EntrPg1WD"
      },
      "source": [
        "We see that despite spanning 300 million words, animals, actions and furnitures are all separated by the model, with animals being the most spread out of the three."
      ]
    },
    {
      "cell_type": "markdown",
      "metadata": {
        "id": "DalBz62Hg1WD"
      },
      "source": [
        "## 4. Recurrent Neural Networks\n",
        "\n",
        "As a final task, let us use embeddings where they are really matter, in recurrent neural networks (RNNs) (or Transformers, but that's a topic for another course). RNNs are covered in the first lecture in ANN3, but consider this a teaser where you don't yet need to understand the inner workings of the black box.\n",
        "\n",
        "<a title=\"fdeloche, CC BY-SA 4.0 &lt;https://creativecommons.org/licenses/by-sa/4.0&gt;, via Wikimedia Commons\" href=\"https://commons.wikimedia.org/wiki/File:Recurrent_neural_network_unfold.svg\"><img width=\"512\" alt=\"Recurrent neural network unfold\" src=\"https://upload.wikimedia.org/wikipedia/commons/thumb/b/b5/Recurrent_neural_network_unfold.svg/512px-Recurrent_neural_network_unfold.svg.png\"></a>\n",
        "\n",
        "RNNs have a major benefit in that they can use input sequences of any length in the same network. When using BoW, our encodings collapsed to the same dimensions, but with w2v we faced the challenge of having varying input dimensions. In RNNs, our input is fed sequentially to the network together with the previous network output. After our first input token is transformed to a prediction, this prediction is fed to the same network together with the next token, until all tokens have been seen. Thus, regardless of if our input sequence is one word or 100 words, the network size remains the same (but for 100 words we will have to backprop 100 times through the network to train it. What issues might this cause?).\n",
        "\n",
        "We shall now implement another w2v embedder, this time maintaining the sequential structure of our data. But first, let's make a third dataset class.\n"
      ]
    },
    {
      "cell_type": "code",
      "execution_count": null,
      "metadata": {
        "id": "EZxXfUfCg1WD"
      },
      "outputs": [],
      "source": [
        "# We create our own dataset to load the w2v embedded texts\n",
        "class rnnDataset(torch.utils.data.Dataset):\n",
        "    def __init__(self, dataset, embedder):\n",
        "        self.dataset = dataset\n",
        "        self.embedder = embedder\n",
        "        \n",
        "    def __getitem__(self, index):\n",
        "        return self.dataset[index][0], self.embedder(self.dataset[index][1], 300)\n",
        "  \n",
        "    def __len__(self):\n",
        "        return len(self.dataset)"
      ]
    },
    {
      "cell_type": "markdown",
      "metadata": {
        "id": "_NwNFRTmg1WE"
      },
      "source": [
        "**Exercise 4.1:** Implement an emedder for rnnDataset which takes an input tensor, transforms it to words->tokens->embeddings, then stores the embeddings while maintainin the structural integrity of the original sentences. <br>\n",
        "**Hint:** The embedder should be quite similar to w2v-embedder. Consider using numpy.shape() to investigate the shape of your dataset and remember that you can go from list to numpy.array with numpy.asarray()"
      ]
    },
    {
      "cell_type": "code",
      "execution_count": null,
      "metadata": {
        "id": "govv-8kLg1WE"
      },
      "outputs": [],
      "source": [
        "def rnn_embedder(tensor, embedding_length):\n",
        "    tensor = tensor.long()\n",
        "    embedding = []\n",
        "\n",
        "    #TODO MAKE SURE TENSOR2TEXT AND SIMPLE_TOKONIZER IS CORRECT\n",
        "    words = tensor2text(tensor)#find words based on index in tensor\n",
        "    tokens = simple_tokenizer(words) #tensor of the words\n",
        "\n",
        "    # What do we loop over?\n",
        "    for i, token in enumerate(tokens):\n",
        "      #skip not existing words\n",
        "      try:\n",
        "        embedding.append(wv.get_vector(token))\n",
        "        #embedding = embedding.add(torch.tensor(wv.get_vector(x)))\n",
        "      except:\n",
        "        a = 0\n",
        "\n",
        "    return numpy.asarray(embedding)"
      ]
    },
    {
      "cell_type": "markdown",
      "metadata": {
        "id": "tBIjEUKwg1WE"
      },
      "source": [
        "We shall now design an LSTM network. When implementing machine learning models, one often has to consult the root documentation. Let us therefore go to https://pytorch.org/docs/stable/generated/torch.nn.LSTM.html to study the input, hidden and output sizes of the torch.nn.LSTM class.\n",
        "\n",
        "**Exercise 4.2:** Finish the implementation of our LSTM network class. <br>\n",
        "**Hint:** Don't miss the batch_first=True command when looking at batch size or sequence length first. <br>\n",
        "Defining the init and the forward "
      ]
    },
    {
      "cell_type": "code",
      "execution_count": null,
      "metadata": {
        "id": "vqBaHE9Cg1WE"
      },
      "outputs": [],
      "source": [
        "from torch.autograd import Variable \n",
        "\n",
        "class LSTM1(nn.Module):\n",
        "    def __init__(self, num_classes, input_size, hidden_size, num_layers, seq_length):\n",
        "        super(LSTM1, self).__init__()\n",
        "        self.num_classes = num_classes #nr of classes\n",
        "        self.num_layers = num_layers #nr of layers\n",
        "        self.input_size = input_size #input size\n",
        "        self.hidden_size = hidden_size #hidden state\n",
        "        self.seq_length = seq_length #sequence length\n",
        "\n",
        "        ## TASK: Insert the correct dimensions for our LSTM and FC layers\n",
        "        self.lstm = nn.LSTM(input_size=input_size, hidden_size=hidden_size, num_layers=num_layers, batch_first=True) # LSTM layer\n",
        "        self.fc_1 = nn.Linear(hidden_size, 128) #fFirst FC layer\n",
        "        self.fc = nn.Linear(128, num_classes) # Final FC layer\n",
        "\n",
        "        self.relu = nn.ReLU()\n",
        "    \n",
        "    def forward(self,x):\n",
        "        h_0 = Variable(torch.zeros(self.num_layers, x.size(0), self.hidden_size)) #hidden state\n",
        "        c_0 = Variable(torch.zeros(self.num_layers, x.size(0), self.hidden_size)) #internal state\n",
        "\n",
        "        # Propagate input through LSTM\n",
        "        output, (hn, cn) = self.lstm(x, (h_0, c_0)) #lstm with input, hidden, and internal state\n",
        "        hn = hn.view(-1, self.hidden_size) #reshaping the data for Dense layer next\n",
        "        out = self.relu(hn)\n",
        "        out = self.fc_1(out) #first Dense\n",
        "        out = self.relu(out) #relu\n",
        "        out = self.fc(out) #Final Output\n",
        "        return out\n"
      ]
    },
    {
      "cell_type": "code",
      "execution_count": null,
      "metadata": {
        "id": "KuWjTWz-g1WE"
      },
      "outputs": [],
      "source": [
        "num_epochs = 2 #2 epochs\n",
        "learning_rate = 0.001 #0.001 lr\n",
        "\n",
        "input_size = 300 #number of features\n",
        "hidden_size = 50 #number of features in hidden state\n",
        "num_layers = 1 #number of stacked lstm layers\n",
        "sequence_length = 300\n",
        "num_classes = 4\n",
        "device=torch.device('cpu')\n",
        "\n",
        "lstm1 = LSTM1(num_classes=num_classes, input_size=input_size, hidden_size=hidden_size, \n",
        "              num_layers=num_layers, seq_length=sequence_length) #our lstm class"
      ]
    },
    {
      "cell_type": "markdown",
      "metadata": {
        "id": "Xizu6tuPg1WE"
      },
      "source": [
        "Using our LSTM class and RNN dataloader, let's train out network and see how well it works.\n",
        "\n",
        "**Exercise 4.3:** Train the network to reach an accuracy of over 90%. <br>\n",
        "**Hint:** Consider starting with batch size = 1 or else data will have multiple sequence lengths. <br>\n",
        "Use torch.from_numpy to convert a numpy array to torch"
      ]
    },
    {
      "cell_type": "code",
      "execution_count": null,
      "metadata": {
        "colab": {
          "base_uri": "https://localhost:8080/"
        },
        "id": "nQ-uw0zdg1WF",
        "outputId": "1028698f-e03b-47ef-8e8e-91742b59be08"
      },
      "outputs": [
        {
          "output_type": "stream",
          "name": "stdout",
          "text": [
            "Epoch 1 [120000/120000] - Loss: 0.6278284788131714"
          ]
        }
      ],
      "source": [
        "optimizer = torch.optim.Adam(lstm1.parameters(), lr=learning_rate)\n",
        "\n",
        "rnn_train_data = rnnDataset(ag_train, rnn_embedder)\n",
        "rnn_test_data = rnnDataset(ag_test, rnn_embedder)\n",
        "rnn_trainloader = DataLoader(rnn_train_data, batch_size=1, shuffle=True)\n",
        "rnn_testloader = DataLoader(rnn_test_data, batch_size=1, shuffle=False)\n",
        "\n",
        "loss_function = nn.CrossEntropyLoss()\n",
        "epochs = 1\n",
        "\n",
        "for epoch in range(epochs):\n",
        "    # For each batch of data (since the dataset is too large to run all data through the network at once)\n",
        "    for batch_nr, (labels, data) in enumerate(rnn_trainloader):\n",
        "      data = torch.from_numpy(numpy.asarray(data))\n",
        "\n",
        "      # Predict for each BoW represented text in the batch what class they belong to\n",
        "      prediction = lstm1.forward(data)\n",
        "\n",
        "      # Calculate the loss of the prediction by comparing to the expected output\n",
        "      loss = loss_function(prediction, labels)\n",
        "      \n",
        "      # Backpropagate the loss through the network to find the gradients of all parameters\n",
        "      loss.backward()\n",
        "\n",
        "      # Update the parameters along their gradients\n",
        "      optimizer.step()\n",
        "      \n",
        "      # Clear stored gradient values\n",
        "      optimizer.zero_grad()\n",
        "              \n",
        "      #Print the epoch, batch, and loss\n",
        "      print(\n",
        "          f'\\rEpoch {epoch+1} [{batch_nr+1}/{len(rnn_trainloader)}] - Loss: {loss}',\n",
        "          end=''\n",
        "      )\n",
        "        "
      ]
    },
    {
      "cell_type": "markdown",
      "metadata": {
        "id": "CG04Cwveg1WF"
      },
      "source": [
        "Let's once again calculate accuracy and the confusion matrix.\n",
        "**Exercise 4.4:** Calculate accuracy and confusion matrix. How well does your network perform? What could you do to improve accuracy further (you don't have to implement it)?"
      ]
    },
    {
      "cell_type": "code",
      "execution_count": null,
      "metadata": {
        "colab": {
          "base_uri": "https://localhost:8080/"
        },
        "id": "TBJoQd-Og1WF",
        "outputId": "f27f9ffa-83a7-4f4b-a14a-8b19aee46d3e"
      },
      "outputs": [
        {
          "output_type": "stream",
          "name": "stdout",
          "text": [
            "The accuracy of the network is 90.8%.\n"
          ]
        }
      ],
      "source": [
        "with torch.no_grad():\n",
        "    classes = [0, 1, 2, 3]\n",
        "    correct = 0\n",
        "    total = 0\n",
        "    y_pred = []\n",
        "    y_true = []\n",
        "    # For each batch of testing data (since the dataset is too large to run all data through the network at once)\n",
        "    # Calculate the accuracy, precision and recall\n",
        "    for batch_nr, (labels, data) in enumerate(rnn_testloader):\n",
        "        ## WRITE THE TESTING CODE HERE\n",
        "        total += len(data)\n",
        "        prediction = lstm1(data)\n",
        "        label = labels.detach().numpy()\n",
        "        predicted =  prediction.detach().numpy()\n",
        "\n",
        "        count = 0\n",
        "        for x in predicted: \n",
        "          y_true.append(label[count])\n",
        "          y_pred.append(predicted[count].argmax())\n",
        "       \n",
        "\n",
        "          if label[count] == predicted[count].argmax():\n",
        "            correct += 1\n",
        "          count += 1\n",
        "\n",
        "            \n",
        "    print(f'The accuracy of the network is {str(100*correct/total)[:4]}%.')"
      ]
    },
    {
      "cell_type": "code",
      "execution_count": null,
      "metadata": {
        "id": "6902NPxsg1WF",
        "colab": {
          "base_uri": "https://localhost:8080/",
          "height": 384
        },
        "outputId": "3ef720c9-b19a-4603-f98f-a203a57552d0"
      },
      "outputs": [
        {
          "output_type": "stream",
          "name": "stdout",
          "text": [
            "Confusion matrix, without normalization\n",
            "[[1725   63   67   45]\n",
            " [  13 1871    8    8]\n",
            " [  79   19 1598  204]\n",
            " [  57   12  120 1711]]\n"
          ]
        },
        {
          "output_type": "display_data",
          "data": {
            "image/png": "[encoded data removed]",
            "text/plain": [
              "<Figure size 432x288 with 2 Axes>"
            ]
          },
          "metadata": {
            "needs_background": "light"
          }
        }
      ],
      "source": [
        "cnf_matrix = confusion_matrix(y_true, y_pred,labels=[0, 1, 2, 3])\n",
        "numpy.set_printoptions(precision=2)\n",
        "\n",
        "# Plot non-normalized confusion matrix\n",
        "plt.figure()\n",
        "plot_confusion_matrix(cnf_matrix, classes=['World', 'Sports', 'Business', 'Sci/Tec'],\n",
        "                      title='Confusion matrix, without normalization')"
      ]
    },
    {
      "cell_type": "markdown",
      "metadata": {
        "id": "2M9pqQ2cg1WF"
      },
      "source": [
        "You have now reached the end of exercise 2. Well done!"
      ]
    },
    {
      "cell_type": "code",
      "execution_count": null,
      "metadata": {
        "id": "MOF1dWWng1WG"
      },
      "outputs": [],
      "source": []
    }
  ],
  "metadata": {
    "colab": {
      "collapsed_sections": [],
      "provenance": []
    },
    "kernelspec": {
      "display_name": "Python 3",
      "language": "python",
      "name": "python3"
    },
    "language_info": {
      "codemirror_mode": {
        "name": "ipython",
        "version": 3
      },
      "file_extension": ".py",
      "mimetype": "text/x-python",
      "name": "python",
      "nbconvert_exporter": "python",
      "pygments_lexer": "ipython3",
      "version": "3.7.3"
    }
  },
  "nbformat": 4,
  "nbformat_minor": 0
}